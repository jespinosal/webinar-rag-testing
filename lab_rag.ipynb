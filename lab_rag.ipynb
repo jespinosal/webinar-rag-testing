{
 "cells": [
  {
   "cell_type": "code",
   "execution_count": 1,
   "metadata": {},
   "outputs": [],
   "source": [
    "# If you don not have virtual env, intalls requirements un comment the below line\n",
    "# ! pip install -r requirements.txt\n"
   ]
  },
  {
   "cell_type": "code",
   "execution_count": 2,
   "metadata": {},
   "outputs": [],
   "source": [
    "import os\n",
    "from dotenv import load_dotenv\n",
    "from langchain_openai import AzureChatOpenAI\n",
    "from langchain_community.tools.tavily_search import TavilySearchResults\n",
    "from langchain_core.prompts import ChatPromptTemplate"
   ]
  },
  {
   "cell_type": "markdown",
   "metadata": {},
   "source": [
    "## 1. SETUP APIS"
   ]
  },
  {
   "cell_type": "code",
   "execution_count": 3,
   "metadata": {},
   "outputs": [
    {
     "name": "stderr",
     "output_type": "stream",
     "text": [
      "c:\\Users\\Jonathan_Espinosa\\Projects\\qa_webinar\\.myvenv\\Lib\\site-packages\\tqdm\\auto.py:21: TqdmWarning: IProgress not found. Please update jupyter and ipywidgets. See https://ipywidgets.readthedocs.io/en/stable/user_install.html\n",
      "  from .autonotebook import tqdm as notebook_tqdm\n"
     ]
    }
   ],
   "source": [
    "from langchain_openai.chat_models import AzureChatOpenAI\n",
    "from langchain_openai.embeddings import AzureOpenAIEmbeddings\n",
    "from ragas import evaluate\n",
    "\n"
   ]
  },
  {
   "cell_type": "code",
   "execution_count": 4,
   "metadata": {},
   "outputs": [],
   "source": [
    "sources = ['https://en.wikipedia.org/wiki/EPAM_Systems' , \"https://www.epam.com/about\", \"https://www.linkedin.com/company/epam-systems/\"]\n",
    "\n",
    "\n",
    "load_dotenv()\n",
    "AZURE_OPENAI_API_VERSION = os.getenv(\"AZURE_OPENAI_API_VERSION\")\n",
    "AZURE_OPENAI_ENDPOINT = os.getenv(\"AZURE_OPENAI_ENDPOINT\") \n",
    "AZURE_OPENAI_API_KEY = os.getenv(\"AZURE_OPENAI_API_KEY\")\n",
    "AZURE_OPENAI_CHAT_DEPLOYMENT_NAME = os.getenv(\"AZURE_OPENAI_CHAT_DEPLOYMENT_NAME\") \n",
    "AZURE_OPENAI_EMB_DEPLOYMENT_NAME = os.getenv(\"AZURE_OPENAI_EMB_DEPLOYMENT_NAME\") \n",
    "TAVILY_API_KEY = os.getenv(\"TAVILY_API_KEY\")\n",
    "OPENAI_API_KEY =  os.getenv(\"OPENAI_API_KEY\")\n",
    "\n",
    "\n",
    "llm = AzureChatOpenAI(\n",
    "    openai_api_version=AZURE_OPENAI_API_VERSION,\n",
    "    azure_deployment=AZURE_OPENAI_CHAT_DEPLOYMENT_NAME,\n",
    "    temperature=0,\n",
    "    max_tokens=None,\n",
    "    timeout=None,\n",
    "    max_retries=2,\n",
    ")\n",
    "\n",
    "azure_embeddings = AzureOpenAIEmbeddings(\n",
    "    openai_api_version=AZURE_OPENAI_API_VERSION,\n",
    "    azure_endpoint=AZURE_OPENAI_ENDPOINT,\n",
    "    azure_deployment=AZURE_OPENAI_EMB_DEPLOYMENT_NAME,\n",
    "    model=AZURE_OPENAI_EMB_DEPLOYMENT_NAME,\n",
    ")\n",
    "\n",
    "\n",
    "documents_to_return = 3\n",
    "tavily_search_no_contex = TavilySearchResults(max_results=documents_to_return)\n",
    "tavily_search_contex = TavilySearchResults(max_results=documents_to_return, include_domains=sources)"
   ]
  },
  {
   "cell_type": "code",
   "execution_count": 28,
   "metadata": {},
   "outputs": [],
   "source": [
    "question = \"who win the current USA presidential elections in 2024?\""
   ]
  },
  {
   "cell_type": "code",
   "execution_count": 29,
   "metadata": {},
   "outputs": [
    {
     "data": {
      "text/plain": [
       "AIMessage(content=\"I'm sorry, but as an AI language model, I don't have access to real-time information or the ability to predict future events. Therefore, I cannot provide you with the winner of the 2024 US presidential elections.\", additional_kwargs={'refusal': None}, response_metadata={'token_usage': {'completion_tokens': 46, 'prompt_tokens': 19, 'total_tokens': 65, 'completion_tokens_details': None, 'prompt_tokens_details': None}, 'model_name': 'gpt-35-turbo-16k', 'system_fingerprint': None, 'finish_reason': 'stop', 'logprobs': None, 'content_filter_results': {}}, id='run-898f5aab-e1ab-4795-a568-ae013d489f64-0', usage_metadata={'input_tokens': 19, 'output_tokens': 46, 'total_tokens': 65, 'input_token_details': {}, 'output_token_details': {}})"
      ]
     },
     "execution_count": 29,
     "metadata": {},
     "output_type": "execute_result"
    }
   ],
   "source": [
    "llm.invoke(question)"
   ]
  },
  {
   "cell_type": "code",
   "execution_count": 30,
   "metadata": {},
   "outputs": [
    {
     "data": {
      "text/plain": [
       "[{'url': 'https://www.wsj.com/election/2024/general/president',\n",
       "  'content': 'Donald Trump has won the 2024 Presidential Election. Donald Trump has won the 2024 Presidential Election. ... Latest calls. Awaiting first race calls... Electoral map. View as U.S. map.'},\n",
       " {'url': 'https://www.bbc.com/news/election/2024/us/results',\n",
       "  'content': 'US Presidential Election Results 2024 - BBC News Close menu BBC News Kamala Harris of the Democrat party has 0 electoral college votes. Donald Trump of the Republican party has 0 electoral college votes. Kamala Harris of the Democrat party has 158,810 votes (38.4%) Donald Trump of the Republican party has 249,225 votes (60.2%) US presidential election results 2024 US election 2024 Voting in some states is particularly hard to predict, with polls showing they could be won by the Republicans or the Democratic party. The battleground states that could decide the 2024 presidential election are: Voters in 11 states will also elect a governor. US election polls: Who is ahead - Harris or Trump? US election 2024 About the BBC'},\n",
       " {'url': 'https://www.latimes.com/politics/story/2024-11-06/trump-defeats-harris-47th-president-election-2024',\n",
       "  'content': 'Trump wins 2024 U.S. presidential election - Los Angeles Times Trump elected 47th president of the United States, defeating Harris to retake White House Nancy Northup, President and CEO of the Center for Reproductive Rights, called Trump’s win “a deadly threat to the democratic values of liberty and equality, the rule of law, and reproductive health, rights, and justice in the United States and around the globe.” “The Democrats thought there were enough people who hated Trump or were willing to fear him to win the race,” Jennings said. 2024 election results: Trump wins second term in historic comeback'}]"
      ]
     },
     "execution_count": 30,
     "metadata": {},
     "output_type": "execute_result"
    }
   ],
   "source": [
    "search_docs_nc = tavily_search_no_contex.invoke(question)\n",
    "search_docs_nc"
   ]
  },
  {
   "cell_type": "code",
   "execution_count": 32,
   "metadata": {},
   "outputs": [
    {
     "name": "stdout",
     "output_type": "stream",
     "text": [
      "\n",
      "\n",
      "url 0: https://www.wsj.com/election/2024/general/president \n",
      "Context 0: Donald Trump has won the 2024 Presidential Election. Donald Trump has won the 2024 Presidential Election. ... Latest calls. Awaiting first race calls... Electoral map. View as U.S. map.\n",
      "\n",
      "url 1: https://www.bbc.com/news/election/2024/us/results \n",
      "Context 1: US Presidential Election Results 2024 - BBC News Close menu BBC News Kamala Harris of the Democrat party has 0 electoral college votes. Donald Trump of the Republican party has 0 electoral college votes. Kamala Harris of the Democrat party has 158,810 votes (38.4%) Donald Trump of the Republican party has 249,225 votes (60.2%) US presidential election results 2024 US election 2024 Voting in some states is particularly hard to predict, with polls showing they could be won by the Republicans or the Democratic party. The battleground states that could decide the 2024 presidential election are: Voters in 11 states will also elect a governor. US election polls: Who is ahead - Harris or Trump? US election 2024 About the BBC\n",
      "\n",
      "url 2: https://www.latimes.com/politics/story/2024-11-06/trump-defeats-harris-47th-president-election-2024 \n",
      "Context 2: Trump wins 2024 U.S. presidential election - Los Angeles Times Trump elected 47th president of the United States, defeating Harris to retake White House Nancy Northup, President and CEO of the Center for Reproductive Rights, called Trump’s win “a deadly threat to the democratic values of liberty and equality, the rule of law, and reproductive health, rights, and justice in the United States and around the globe.” “The Democrats thought there were enough people who hated Trump or were willing to fear him to win the race,” Jennings said. 2024 election results: Trump wins second term in historic comeback\n",
      "\n",
      "\n"
     ]
    }
   ],
   "source": [
    "from typing import List\n",
    "def parse_tavily_input(tavily_input:list, output_srt=True) -> str|List[str]:\n",
    "    results_str = '\\n\\n'\n",
    "    results_list = []\n",
    "    for n, sample in enumerate(tavily_input):\n",
    "        url = sample['url']\n",
    "        content = sample['content']\n",
    "        results_str += f'url {n}: {url} \\nContext {n}: {content}\\n\\n'\n",
    "        results_list.append(content)\n",
    "    return results_str if output_srt else results_list\n",
    "\n",
    "context_str = parse_tavily_input(search_docs_nc)\n",
    "print(context_str)"
   ]
  },
  {
   "cell_type": "code",
   "execution_count": 33,
   "metadata": {},
   "outputs": [
    {
     "data": {
      "text/plain": [
       "str"
      ]
     },
     "execution_count": 33,
     "metadata": {},
     "output_type": "execute_result"
    }
   ],
   "source": [
    "type(context_str)"
   ]
  },
  {
   "cell_type": "code",
   "execution_count": 35,
   "metadata": {},
   "outputs": [
    {
     "name": "stdout",
     "output_type": "stream",
     "text": [
      "['Donald Trump has won the 2024 Presidential Election. Donald Trump has won the 2024 Presidential Election. ... Latest calls. Awaiting first race calls... Electoral map. View as U.S. map.', 'US Presidential Election Results 2024 - BBC News Close menu BBC News Kamala Harris of the Democrat party has 0 electoral college votes. Donald Trump of the Republican party has 0 electoral college votes. Kamala Harris of the Democrat party has 158,810 votes (38.4%) Donald Trump of the Republican party has 249,225 votes (60.2%) US presidential election results 2024 US election 2024 Voting in some states is particularly hard to predict, with polls showing they could be won by the Republicans or the Democratic party. The battleground states that could decide the 2024 presidential election are: Voters in 11 states will also elect a governor. US election polls: Who is ahead - Harris or Trump? US election 2024 About the BBC', 'Trump wins 2024 U.S. presidential election - Los Angeles Times Trump elected 47th president of the United States, defeating Harris to retake White House Nancy Northup, President and CEO of the Center for Reproductive Rights, called Trump’s win “a deadly threat to the democratic values of liberty and equality, the rule of law, and reproductive health, rights, and justice in the United States and around the globe.” “The Democrats thought there were enough people who hated Trump or were willing to fear him to win the race,” Jennings said. 2024 election results: Trump wins second term in historic comeback']\n"
     ]
    },
    {
     "data": {
      "text/plain": [
       "3"
      ]
     },
     "execution_count": 35,
     "metadata": {},
     "output_type": "execute_result"
    }
   ],
   "source": [
    "context_list = parse_tavily_input(search_docs_nc, output_srt=False)\n",
    "print(context_list)\n",
    "len(context_list)"
   ]
  },
  {
   "cell_type": "markdown",
   "metadata": {},
   "source": [
    "## 2. SETUP RAG CHAINS"
   ]
  },
  {
   "cell_type": "code",
   "execution_count": 10,
   "metadata": {},
   "outputs": [],
   "source": [
    "# Build chain in more elegant way https://python.langchain.com/docs/integrations/tools/tavily_search/ using tools"
   ]
  },
  {
   "cell_type": "code",
   "execution_count": 11,
   "metadata": {},
   "outputs": [],
   "source": [
    "prompt_with_rag = ChatPromptTemplate.from_messages(\n",
    "    [\n",
    "        (\n",
    "            \"system\",\n",
    "            \"You are a helpful assistant that answer question to users following context:  {context} .\",\n",
    "        ),\n",
    "        (\"human\", \"{input}\"),\n",
    "    ]\n",
    ")\n",
    "\n",
    "prompt_without_rag = ChatPromptTemplate.from_messages(\n",
    "    [\n",
    "        (\n",
    "            \"system\",\n",
    "            \"You are a helpful assistant that answer question to users.\",\n",
    "        ),\n",
    "        (\"human\", \"{input}\"),\n",
    "    ]\n",
    ")\n",
    "\n",
    "chain_with_rag = prompt_with_rag | llm\n",
    "chain_without_rag = prompt_without_rag | llm\n"
   ]
  },
  {
   "cell_type": "markdown",
   "metadata": {},
   "source": [
    "### LLM without RAG"
   ]
  },
  {
   "cell_type": "code",
   "execution_count": 36,
   "metadata": {},
   "outputs": [
    {
     "name": "stdout",
     "output_type": "stream",
     "text": [
      "content=\"As an AI, I don't have real-time information or the ability to predict future events. Therefore, I cannot tell you who will win the USA presidential elections in 2024. The outcome of the elections will depend on various factors, including the candidates, their campaigns, and the preferences of the voters. It's best to follow reliable news sources and stay informed about the candidates and their platforms as the elections approach.\" additional_kwargs={'refusal': None} response_metadata={'token_usage': {'completion_tokens': 84, 'prompt_tokens': 34, 'total_tokens': 118, 'completion_tokens_details': None, 'prompt_tokens_details': None}, 'model_name': 'gpt-35-turbo-16k', 'system_fingerprint': None, 'finish_reason': 'stop', 'logprobs': None, 'content_filter_results': {}} id='run-53ccdf03-0bfa-4d5f-aec0-bece99f8de5f-0' usage_metadata={'input_tokens': 34, 'output_tokens': 84, 'total_tokens': 118, 'input_token_details': {}, 'output_token_details': {}}\n"
     ]
    }
   ],
   "source": [
    "answer_without_rag = chain_without_rag.invoke(\n",
    "       {\n",
    "        \"input\": question\n",
    "    }\n",
    ")\n",
    "\n",
    "print(answer_without_rag)"
   ]
  },
  {
   "cell_type": "markdown",
   "metadata": {},
   "source": [
    "### LLM with RAG (intenet grounded)"
   ]
  },
  {
   "cell_type": "code",
   "execution_count": 37,
   "metadata": {},
   "outputs": [
    {
     "name": "stdout",
     "output_type": "stream",
     "text": [
      "content='Donald Trump has won the 2024 Presidential Election.' additional_kwargs={'refusal': None} response_metadata={'token_usage': {'completion_tokens': 11, 'prompt_tokens': 453, 'total_tokens': 464, 'completion_tokens_details': None, 'prompt_tokens_details': None}, 'model_name': 'gpt-35-turbo-16k', 'system_fingerprint': None, 'finish_reason': 'stop', 'logprobs': None, 'content_filter_results': {}} id='run-e54917cf-89c1-4c2a-83ed-f0c5183af3d9-0' usage_metadata={'input_tokens': 453, 'output_tokens': 11, 'total_tokens': 464, 'input_token_details': {}, 'output_token_details': {}}\n"
     ]
    }
   ],
   "source": [
    "answer_with_rag = chain_with_rag.invoke(\n",
    "       {\n",
    "        \"input\": question,\n",
    "        \"context\":search_docs_nc,\n",
    "    }\n",
    ")\n",
    "\n",
    "print(answer_with_rag)"
   ]
  },
  {
   "cell_type": "markdown",
   "metadata": {},
   "source": [
    "## 3. EVALUATION (sample data)"
   ]
  },
  {
   "cell_type": "code",
   "execution_count": 38,
   "metadata": {},
   "outputs": [],
   "source": [
    "### Test set preparation\n",
    "questions = [\"How many total employees (EPAMers) EPAM company has?\", \n",
    "             \"When was the company First Derivativ adquired by EPAM?\", \n",
    "             \"What is  TelescopeAI® in EPAM\", \n",
    "             \"Explain what is aboyt InfoNgen software product\", \n",
    "             \"what is EPAM\"]\n",
    "\n",
    "ground_truths = [ \"65,149 EPAmers\",\n",
    "                 \"October 2024\",\n",
    "                 \"an artificial intelligence-based platform for IT operations and workforce management\",\n",
    "                 \"text analytics and sentiment analysis enterprise software product that uses artificial intelligence.\",\n",
    "                 \"American company that specializes in software engineering services, digital platform engineering, and digital product design\" ]\n",
    "\n",
    "contexts = []\n",
    "for question in questions:\n",
    "    context_raw = tavily_search_contex.invoke(question)\n",
    "    context_parsed = parse_tavily_input(context_raw, output_srt=False)\n",
    "    contexts.append(context_parsed)\n",
    "    \n",
    "answers = []\n",
    "for index, question in enumerate(questions):\n",
    "    context = contexts[index]\n",
    "    answer = chain_with_rag.invoke({\"input\": question,\n",
    "                                    \"context\":context})\n",
    "    answers.append(answer.content)\n"
   ]
  },
  {
   "cell_type": "code",
   "execution_count": 40,
   "metadata": {},
   "outputs": [
    {
     "data": {
      "text/plain": [
       "[\"As of\\nMarch 31,\\n2023\\nAs of\\nDecember 31,\\n2022\\nAssets\\nCurrent assets\\nCash and cash equivalents\\n$\\xa0\\xa0\\xa0 1,749,422\\n$\\xa0\\xa0\\xa0 1,681,344\\nTrade receivables and contract assets, net of allowance of 14,184\\nand 15,310, respectively\\n934,236\\n932,626\\nShort-term investments\\n60,373\\n60,336\\nPrepaid and other current assets\\n86,758\\n85,319\\nTotal current assets\\n2,830,789\\n2,759,625\\nProperty and equipment, net\\n267,067\\n273,348\\nOperating lease right-of-use assets, net\\n146,815\\n148,780\\nIntangible assets, net\\n73,113\\n77,652\\nGoodwill\\n533,730\\n529,072\\nDeferred tax assets\\n167,654\\n172,797\\nOther noncurrent assets\\n52,177\\n47,877\\nTotal assets\\n$\\xa0\\xa0\\xa0 4,071,345\\n$\\xa0\\xa0\\xa0 4,009,151\\nLiabilities\\nCurrent liabilities\\nAccounts payable\\n$\\xa0\\xa0\\xa0\\xa0\\xa0\\xa0\\xa0\\xa0 28,857\\n$\\xa0\\xa0\\xa0\\xa0\\xa0\\xa0\\xa0\\xa0 30,852\\nAccrued compensation and benefits expenses\\n444,728\\n475,871\\nAccrued expenses and other current liabilities\\n130,902\\n154,339\\nIncome taxes payable, current\\n37,439\\n46,069\\nOperating lease liabilities, current\\n40,932\\n40,352\\nTotal current liabilities\\n682,858\\n747,483\\nLong-term debt\\n28,253\\n27,693\\nOperating lease liabilities, noncurrent\\n117,913\\n122,317\\nOther noncurrent liabilities\\n111,879\\n108,648\\nTotal liabilities\\n940,903\\n1,006,141\\nCommitments and contingencies\\nStockholders' equity\\nCommon stock, $0.001 par value; 160,000 shares authorized; 57,862 and 57,668\\nshares issued, 57,848 and 57,655 shares outstanding at March 31, 2023 andDecember 31, 2022, respectively\\n58\\n58\\nAdditional paid-in capital\\n864,254\\n847,965\\nRetained earnings\\n2,342,730\\n2,248,948\\nTreasury stock\\n(118)\\n(118)\\nAccumulated other comprehensive loss\\n(77,960)\\n(95,321)\\nTotal EPAM Systems Inc. stockholders' equity\\n3,128,964\\n3,001,532\\nNoncontrolling interest in consolidated subsidiaries\\n1,478\\n1,478\\nTotal equity\\n3,130,442\\n3,003,010\\nTotal liabilities and stockholders' equity\\n$\\xa0\\xa0\\xa0 4,071,345\\n$\\xa0\\xa0\\xa0 4,009,151\\nEPAM SYSTEMS, INC. AND SUBSIDIARIES\\nReconciliations of Non-GAAP Financial Measures to Comparable GAAP Financial Measures\\n(Unaudited)\\n(In thousands, except percent and per share amounts)\\nReconciliation of revenue growth as reported on a GAAP basis to revenue growth on an organic constant currency basis excluding\\nthe impact of the exit from Russia is presented in the table below:\\nThree Months Ended\\nMarch 31, 2023\\n Three Months Ended\\nMarch 31,\\n2023\\n2022\\nStock-based compensation expense/(benefit)\\n$\\xa0\\xa0\\xa0\\xa0\\xa0\\xa0\\xa0\\xa0 16,011\\n$\\xa0\\xa0\\xa0\\xa0\\xa0\\xa0\\xa0\\xa0\\xa0\\xa0\\xa0\\xa0 (424)\\nHumanitarian support in Ukraine\\xa0(a)\\n2,440\\n19,156\\nUnbilled business continuity resources (b)\\n7,370\\n2,570\\nDiscretionary compensation (c)\\n—\\n(21,356)\\nTotal adjustments to GAAP cost of revenues(2)\\n25,821\\n(54)\\nStock-based compensation expenses\\n22,568\\n7,536\\nOther acquisition-related expenses\\n241\\n579\\nOne-time (benefits)/charges\\n(99)\\n1,363\\nHumanitarian support in Ukraine\\xa0(a)\\n3,617\\n6,500\\nGeographic repositioning (d)\\n212\\n18,706\\nRussia long-lived asset impairment charges (e)\\n—\\n19,570\\nTotal adjustments to GAAP selling, general and administrative expenses(3)\\n26,539\\n54,254\\nAmortization of acquired intangible assets\\n5,537\\n5,244\\nTotal adjustments to GAAP income from operations(4)\\n57,897\\n59,444\\nChange in fair value of contingent consideration included in Interest and other income, net\\n300\\n3,373\\nImpairment of financial assets\\n—\\n1,300\\nForeign exchange loss\\n4,608\\n22,785\\nProvision for income taxes:\\nTax effect on non-GAAP adjustments\\n(11,514)\\n(16,469)\\nExcess tax benefits related to stock-based compensation\\n(6,022)\\n(13,109)\\nNet discrete benefit from tax planning (f)\\n(968)\\n—\\nTotal adjustments to GAAP net income(5)\\n$\\xa0\\xa0\\xa0\\xa0\\xa0\\xa0\\xa0\\xa0 44,301\\n$\\xa0\\xa0\\xa0\\xa0\\xa0\\xa0\\xa0\\xa0 57,324\\n(a) Humanitarian support in Ukraine includes expenses related to EPAM's $100 million humanitarian commitment in response to Russia's invasion of Ukraine to support EPAM professionals and their families in and displaced from Ukraine. Reconciliation of expected GAAP to non-GAAP income from operations as a percentage of revenues is presented in the table below:\\nSecond Quarter 2023\\nFull Year 2023\\nGAAP income from operations as a percentage of revenues\\n10% to 11%\\n11.5% to 12.5%\\nStock-based compensation expenses\\n2.8\\xa0%\\n3.0\\xa0%\\nIncluded in cost of revenues (exclusive of depreciation and amortization)\\n1.3\\xa0%\\n1.4\\xa0%\\nIncluded in selling, general and administrative expenses\\n1.5\\xa0%\\n1.6\\xa0%\\nHumanitarian support in Ukraine\\xa0(a)\\n0.3\\xa0%\\n0.3\\xa0%\\nUnbilled business continuity resources (b)\\n0.2\\xa0%\\n0.2\\xa0%\\nOne-time charges\\n0.2\\xa0%\\n0.1\\xa0%\\nAmortization of acquired intangible assets\\n0.5\\xa0%\\n0.4\\xa0%\\nNon-GAAP income from operations as a percentage of revenues\\n14% to 15%\\n15.5% to 16.5%\\nReconciliation of expected GAAP to non-GAAP effective tax rate is presented in the table below:\\nSecond Quarter 2023\\nFull Year 2023\\nGAAP effective tax rate (approximately)\\n20\\xa0%\\n21\\xa0%\\nTax effect on non-GAAP adjustments\\n1.9\\xa0%\\n1.4\\xa0%\\nExcess tax benefits related to stock-based compensation\\n1.1\\xa0%\\n0.6\\xa0%\\nNon-GAAP effective tax rate (approximately)\\n23\\xa0%\\n23\\xa0%\\nReconciliation of expected GAAP to non-GAAP diluted earnings per share is presented in the table below:\\nSecond Quarter 2023\\nFull Year 2023\\nGAAP diluted earnings per share\\n$1.82 to $1.90\\n$8.11 to $8.31\\nStock-based compensation expenses\\n0.56\\n2.48\\nIncluded in cost of revenues (exclusive of depreciation and amortization)\\n Reconciliation of various income statement amounts from GAAP to non-GAAP for the three months ended March\\xa031, 2023 and 2022:\\nThree Months Ended\\nMarch 31, 2023\\nGAAP\\nAdjustments\\nNon-GAAP\\nCost of revenues (exclusive of depreciation and amortization)(2)\\n$ 855,901\\n$\\xa0 (25,821)\\n$ 830,080\\nSelling, general and administrative expenses(3)\\n$ 211,887\\n$\\xa0 (26,539)\\n$ 185,348\\nIncome from operations(4)\\n$ 120,371\\n$\\xa0 \\xa057,897\\n$ 178,268\\nOperating margin\\n9.9\\xa0%\\n4.8\\xa0%\\n14.7\\xa0%\\nNet income(5)\\n$ 102,292\\n$\\xa0 \\xa044,301\\n$ 146,593\\nDiluted earnings per share\\n$\\xa0 \\xa0 \\xa0 \\xa01.73\\n$\\xa0\\xa0\\xa0\\xa0\\xa0\\xa0 2.47\\nThree Months Ended\\nMarch 31, 2022\\nGAAP\\nAdjustments\\nNon-GAAP\\nCost of revenues (exclusive of depreciation and amortization)(2)\\n$ 780,836\\n$\\xa0 \\xa0 \\xa0 \\xa0 \\xa0 \\xa054\\n$ 780,890\\nSelling, general and administrative expenses(3)\\n$ 237,277\\n$\\xa0 \\xa0(54,254)\\n$ 183,023\\nIncome from operations(4)\\n$ 129,242\\n$\\xa0\\xa0\\xa0 59,444\\n$ 188,686\\nOperating margin\\n11.0\\xa0%\\n5.1\\xa0%\\n16.1\\xa0%\\nNet income(5)\\n$\\xa0 \\xa089,719\\n$\\xa0\\xa0\\xa0 57,324\\n$ 147,043\\nDiluted earnings per share\\n$\\xa0 \\xa0 \\xa0 \\xa01.52\\n$\\xa0\\xa0\\xa0\\xa0\\xa0\\xa0 2.49\\nItems (2) through (5) above are detailed in the table below with the specific cross-reference noted in the appropriate item.\\n Three Months Ended\\nMarch 31,\\n2023\\n2022\\nRevenues\\n$\\xa0\\xa0\\xa0 1,210,941\\n$\\xa0\\xa0\\xa0 1,171,614\\nOperating expenses:\\nCost of revenues (exclusive of depreciation and amortization)\\n855,901\\n780,836\\nSelling, general and administrative expenses\\n211,887\\n237,277\\nDepreciation and amortization expense\\n22,782\\n24,259\\nIncome from operations\\n120,371\\n129,242\\nInterest and other income/(loss), net\\n11,521\\n(165)\\nForeign exchange loss\\n(4,608)\\n(22,785)\\nIncome before provision for income taxes\\n127,284\\n106,292\\nProvision for income taxes\\n24,992\\n16,573\\nNet income\\n$\\xa0\\xa0\\xa0\\xa0\\xa0\\xa0 102,292\\n$\\xa0\\xa0\\xa0\\xa0\\xa0\\xa0\\xa0\\xa0 89,719\\nNet income per share:\\nBasic\\n$\\xa0\\xa0\\xa0\\xa0\\xa0\\xa0\\xa0\\xa0\\xa0\\xa0\\xa0\\xa0\\xa0 1.77\\n$\\xa0\\xa0\\xa0\\xa0\\xa0\\xa0\\xa0\\xa0\\xa0\\xa0\\xa0\\xa0\\xa0 1.58\\nDiluted\\n$\\xa0\\xa0\\xa0\\xa0\\xa0\\xa0\\xa0\\xa0\\xa0\\xa0\\xa0\\xa0\\xa0 1.73\\n$\\xa0\\xa0\\xa0\\xa0\\xa0\\xa0\\xa0\\xa0\\xa0\\xa0\\xa0\\xa0\\xa0 1.52\\nShares used in calculation of net income per share:\\nBasic\\n57,702\\n56,915\\nDiluted\\n59,298\\n58,941\\nEPAM SYSTEMS, INC. AND SUBSIDIARIES\\nCONDENSED CONSOLIDATED BALANCE SHEETS\\n(Unaudited)\\n(In thousands, except par value)\\n\",\n",
       " \"(In thousands, except par value)\\nAs of\\nSeptember 30,\\n2023\\nAs of\\nDecember 31,\\n2022\\nAssets\\nCurrent assets\\nCash and cash equivalents\\n$\\xa0\\xa0\\xa0 1,872,977\\n$\\xa0\\xa0\\xa0 1,681,344\\nTrade receivables and contract assets, net of allowance of $10,884\\nand $15,310, respectively\\n913,029\\n932,626\\nShort-term investments\\n60,431\\n60,336\\nPrepaid and other current assets\\n78,851\\n85,319\\nTotal current assets\\n2,925,288\\n2,759,625\\nProperty and equipment, net\\n239,654\\n273,348\\nOperating lease right-of-use assets, net\\n136,311\\n148,780\\nIntangible assets, net\\n69,730\\n77,652\\nGoodwill\\n548,177\\n529,072\\nDeferred tax assets\\n187,524\\n172,797\\nOther noncurrent assets\\n55,588\\n47,877\\nTotal assets\\n$\\xa0\\xa0\\xa0 4,162,272\\n$\\xa0\\xa0\\xa0 4,009,151\\nLiabilities\\nCurrent liabilities\\nAccounts payable\\n$\\xa0\\xa0\\xa0\\xa0\\xa0\\xa0\\xa0\\xa0 25,415\\n$\\xa0\\xa0\\xa0\\xa0\\xa0\\xa0\\xa0\\xa0 30,852\\nAccrued compensation and benefits expenses\\n392,417\\n475,871\\nAccrued expenses and other current liabilities\\n127,898\\n154,339\\nIncome taxes payable, current\\n29,554\\n46,069\\nOperating lease liabilities, current\\n38,294\\n40,352\\nTotal current liabilities\\n613,578\\n747,483\\nLong-term debt\\n27,500\\n27,693\\nOperating lease liabilities, noncurrent\\n108,332\\n122,317\\nOther noncurrent liabilities\\n112,844\\n108,648\\nTotal liabilities\\n862,254\\n1,006,141\\nCommitments and contingencies\\nEquity\\nStockholders' equity\\nCommon stock, $0.001 par value; 160,000 shares authorized; 57,706 and 57,668\\nshares issued, 57,693 and 57,655 shares outstanding at September 30, 2023 and\\nDecember 31, 2022, respectively\\n58\\n58\\nAdditional paid-in capital\\n951,086\\n847,965\\nRetained earnings\\n2,440,043\\n2,248,948\\nTreasury stock\\n(118)\\n(118)\\nAccumulated other comprehensive loss\\n(91,630)\\n(95,321)\\nTotal EPAM Systems, Inc. stockholders' equity\\n3,299,439\\n3,001,532\\nNoncontrolling interest in consolidated subsidiaries\\n579\\n1,478\\nTotal equity\\n3,300,018\\n3,003,010\\nTotal liabilities and equity\\n$\\xa0\\xa0\\xa0 4,162,272\\n$\\xa0\\xa0\\xa0 4,009,151\\nEPAM SYSTEMS, INC. AND SUBSIDIARIES\\nReconciliations of Non-GAAP Financial Measures to Comparable GAAP Financial Measures\\n(Unaudited)\\n(In thousands, except percent and per share amounts)\\nReconciliation of revenue decline as reported on a GAAP basis to revenue decline on an organic constant currency basis excluding the impact of the exit from Russia is presented in the table below:\\nThree Months Ended\\nSeptember 30, 2023\\nNine Months Ended\\nSeptember 30, 2023\\n Reconciliation of various income statement amounts from GAAP to non-GAAP for the three and nine months ended September 30, 2023 and 2022:\\nThree Months Ended\\nSeptember 30, 2023\\nNine Months Ended\\nSeptember 30, 2023\\nGAAP\\nAdjustments\\nNon-GAAP\\nGAAP\\nAdjustments\\nNon-GAAP\\nCost of revenues (exclusive of depreciation and amortization)(2)\\n$ 794,265\\n$\\xa0 (21,146)\\n$ 773,119\\n$\\xa0 2,458,881\\n$\\xa0 (67,281)\\n$\\xa0 2,391,600\\nSelling, general and administrative expenses(3)\\n$ 194,829\\n$\\xa0 (28,828)\\n$ 166,001\\n$ 601,093\\n$\\xa0 (76,021)\\n$ 525,072\\nIncome from operations(4)\\n$ 114,028\\n$\\xa0\\xa0\\xa0 81,584\\n$ 195,612\\n$ 378,745\\n$ 185,932\\n$ 564,677\\nOperating margin\\n9.9\\xa0%\\n7.1\\xa0%\\n17.0\\xa0%\\n10.7\\xa0%\\n5.3\\xa0%\\n16.0\\xa0%\\nNet income(5)\\n$\\xa0\\xa0\\xa0 97,204\\n$\\xa0\\xa0\\xa0 63,876\\n$ 161,080\\n$ 319,529\\n$ 144,344\\n$ 463,873\\nDiluted earnings per share\\n$\\xa0\\xa0\\xa0\\xa0\\xa0\\xa0\\xa0 1.65\\n$\\xa0\\xa0\\xa0\\xa0\\xa0\\xa0 2.73\\n$\\xa0\\xa0\\xa0\\xa0\\xa0\\xa0\\xa0 5.40\\n$\\xa0\\xa0\\xa0\\xa0\\xa0\\xa0\\xa0 7.84\\nThree Months Ended\\nSeptember 30, 2022\\nNine Months Ended\\nSeptember 30, 2022\\nGAAP\\nAdjustments\\nNon-GAAP\\nGAAP\\nAdjustments\\nNon-GAAP\\nCost of revenues (exclusive of depreciation and amortization)(2)\\n$ 826,796\\n$\\xa0 (21,358)\\n$ 805,438\\n$\\xa0 2,453,955\\n$\\xa0 (48,576)\\n$\\xa0 2,405,379\\nSelling, general and administrative expenses(3)\\n$ 198,021\\n$\\xa0 (25,221)\\n$ 172,800\\n$ 667,825\\n$\\xa0 (130,914)\\n$ 536,911\\nIncome from operations(4)\\n$ 180,227\\n$\\xa0\\xa0\\xa0 52,163\\n$ 232,390\\n$ 402,489\\n$ 196,074\\n$ 598,563\\nOperating margin\\n14.7\\xa0%\\n4.2\\xa0%\\n18.9\\xa0%\\n11.2\\xa0%\\n5.5\\xa0%\\n16.7\\xa0%\\nNet income(5)\\n$ 156,054\\n$\\xa0\\xa0\\xa0 27,685\\n$ 183,739\\n$ 264,377\\n$ 206,643\\n$ 471,020\\nDiluted earnings per share\\n$\\xa0\\xa0\\xa0\\xa0\\xa0\\xa0\\xa0 2.63\\n$\\xa0\\xa0\\xa0\\xa0\\xa0\\xa0 3.10\\n$\\xa0\\xa0\\xa0\\xa0\\xa0\\xa0\\xa0 4.47\\n$\\xa0\\xa0\\xa0\\xa0\\xa0\\xa0\\xa0 7.97\\nItems (2) through (5) above are detailed in the table below with the specific cross-reference noted in the appropriate item.\\n Total adjustments to GAAP cost of revenues(2)\\n21,146\\n21,358\\n67,281\\n48,576\\nStock-based compensation expenses\\n19,705\\n15,813\\n59,967\\n36,510\\nOne-time charges (d)\\n7,178\\n2,360\\n7,420\\n6,236\\nHumanitarian support in Ukraine (b)\\n643\\n1,631\\n5,309\\n13,219\\nOther acquisition-related expenses\\n867\\n264\\n2,448\\n934\\nGeographic repositioning (e)\\n435\\n4,425\\n877\\n37,497\\nRussia long-lived asset impairment charges (f)\\n—\\n—\\n—\\n19,570\\nRussia business restructuring (g)\\n—\\n728\\n—\\n16,948\\nTotal adjustments to GAAP selling, general and administrative expenses(3)\\n28,828\\n25,221\\n76,021\\n130,914\\nLoss on sale of business\\xa0 (h)\\n25,922\\n—\\n25,922\\n—\\nAmortization of acquired intangible assets\\n5,688\\n5,584\\n16,708\\n16,584\\nTotal adjustments to GAAP income from operations(4)\\n81,584\\n52,163\\n185,932\\n196,074\\nForeign exchange (gain)/loss\\n(3,893)\\n(6,691)\\n6,725\\n102,035\\nChange in fair value of contingent consideration included in Interest and other income, net\\n300\\n2,414\\n1,818\\n8,520\\nImpairment of financial assets\\n—\\n—\\n—\\n1,300\\nProvision for income taxes:\\nTax effect on non-GAAP adjustments\\n(12,395)\\n(8,044)\\n(34,060)\\n(61,443)\\n 1.9)\\xa0%\\n(2.0)\\xa0%\\nNon-GAAP effective tax rate (approximately)\\n23\\xa0%\\n23\\xa0%\\nReconciliation of expected GAAP to non-GAAP diluted earnings per share is presented in the table below:\\nFourth Quarter 2023\\nFull Year 2023\\nGAAP diluted earnings per share\\n$1.67 to $1.75\\n$7.07 to $7.15\\nStock-based compensation expenses\\n0.62\\n2.47\\nIncluded in cost of revenues (exclusive of depreciation and amortization)\\n0.28\\n1.12\\nIncluded in selling, general and administrative expenses\\n0.34\\n1.35\\nUnbilled business continuity resources (a)\\n—\\n0.16\\nHumanitarian support in Ukraine (b)\\n0.06\\n0.29\\nOne-time charges (d)\\n0.25\\n0.40\\nLoss on sale of business (h)\\n—\\n0.43\\nOther acquisition-related expenses\\n—\\n0.04\\nAmortization of acquired intangible assets\\n0.10\\n0.38\\nChange in fair value of contingent consideration\\n—\\n0.03\\nForeign exchange loss\\n—\\n0.12\\nProvision for income taxes:\\nTax effect on non-GAAP adjustments\\n(0.21)\\n(0.78)\\nExcess tax benefits related to stock-based compensation\\n(0.02)\\n(0.28)\\nNet discrete benefit from tax planning (i)\\n—\\n(0.02)\\n Reconciliation of expected GAAP to non-GAAP income from operations as a percentage of revenues is presented in the table below:\\nFourth Quarter 2023\\nFull Year 2023\\nGAAP income from operations as a percentage of revenues\\n10% to 11%\\n10% to 11%\\nStock-based compensation expenses\\n3.2\\xa0%\\n3.1\\xa0%\\nIncluded in cost of revenues (exclusive of depreciation and amortization)\\n1.4\\xa0%\\n1.4\\xa0%\\nIncluded in selling, general and administrative expenses\\n1.8\\xa0%\\n1.7\\xa0%\\nUnbilled business continuity resources (a)\\n—\\xa0%\\n0.2\\xa0%\\nHumanitarian support in Ukraine (b)\\n0.2\\xa0%\\n0.3\\xa0%\\nOne-time charges (d)\\n1.2\\xa0%\\n0.4\\xa0%\\nLoss on sale of business (h)\\n—\\xa0%\\n0.5\\xa0%\\nAmortization of acquired intangible assets\\n0.4\\xa0%\\n0.5\\xa0%\\nNon-GAAP income from operations as a percentage of revenues\\n15% to 16%\\n15% to 16%\\nReconciliation of expected GAAP to non-GAAP effective tax rate is presented in the table below:\\nFourth Quarter 2023\\nFull Year 2023\\nGAAP effective tax rate (approximately)\\n24\\xa0%\\n22\\xa0%\\nExcess tax benefits related to stock-based compensation\\n0.9\\xa0%\\n3.0\\xa0%\\nTax effect on non-GAAP adjustments\\n(\",\n",
       " \"As of\\nDecember 31,\\n2021\\nAs of\\nDecember 31,\\n2020\\nAssets\\nCurrent assets\\nCash and cash equivalents\\n$ \\xa0 \\xa01,446,625\\n$ \\xa0 \\xa01,322,143\\nShort-term investments\\n—\\n60,007\\nTrade receivables and contract assets, net of allowance of $5,521 and $4,886, respectively\\n768,928\\n501,062\\nPrepaid and other current assets\\n53,927\\n29,570\\nTotal current assets\\n2,269,480\\n1,912,782\\nProperty and equipment, net\\n236,214\\n169,533\\nOperating lease right-of-use assets, net\\n184,841\\n228,672\\nIntangible assets, net\\n101,143\\n51,975\\nGoodwill\\n530,723\\n211,956\\nDeferred tax assets\\n143,928\\n92,454\\nOther noncurrent assets\\n56,898\\n53,960\\nTotal assets\\n$ \\xa0 3,523,227\\n$ \\xa0 2,721,332\\nLiabilities\\nCurrent liabilities\\nAccounts payable\\n$ \\xa0 \\xa0 \\xa0 \\xa0 24,847\\n$ \\xa0 \\xa0 \\xa0 \\xa0 10,189\\nAccrued compensation and benefits expenses\\n502,997\\n294,709\\nAccrued expenses and other current liabilities\\n142,014\\n79,690\\nShort-term debt\\n16,018\\n—\\nIncome taxes payable, current\\n27,440\\n20,603\\nOperating lease liabilities, current\\n50,104\\n60,759\\nTotal current liabilities\\n763,420\\n465,950\\nLong-term debt\\n30,234\\n25,038\\nIncome taxes payable, noncurrent\\n42,454\\n43,448\\nOperating lease liabilities, noncurrent\\n142,802\\n180,604\\nOther noncurrent liabilities\\n48,480\\n23,274\\nTotal liabilities\\n1,027,390\\n738,314\\nCommitments and contingencies\\nStockholders' equity\\nCommon stock, $0.001 par value; 160,000 authorized; 56,868 and 56,128 shares issued, 56,849 and 56,108 shares outstanding at December 31, 2021 and December 31, 2020, respectively\\n57\\n56\\nAdditional paid-in capital\\n711,912\\n660,771\\nRetained earnings\\n1,829,532\\n1,347,880\\nTreasury stock\\n(177)\\n(177)\\nAccumulated other comprehensive loss\\n(54,207)\\n(25,512)\\nTotal EPAM Systems Inc. stockholders' equity\\n2,487,117\\n1,983,018\\nNoncontrolling interest in consolidated subsidiaries\\n8,720\\n—\\nTotal equity\\n2,495,837\\n1,983,018\\nTotal liabilities and\\xa0 stockholders' equity\\n$ \\xa0 3,523,227\\n$ \\xa0 2,721,332\\nEPAM SYSTEMS, INC. AND SUBSIDIARIESReconciliations of Non-GAAP Financial Measures to Comparable GAAP Financial Measures(Unaudited)(In thousands, except percent and per share amounts)\\nReconciliation of revenue growth as reported on a GAAP basis to revenue growth on a constant currency basis is presented in the table below:\\nThree Months EndedDecember 31, 2021\\nYear EndedDecember 31, 2021\\nRevenue growth as reported\\n53.1 %\\n41.3 %\\nForeign exchange rates impact\\n1.0 %\\n(1.4) %\\nRevenue growth on a constant currency basis (1)\\n54.1 %\\n39.9 %\\n(1)\\nConstant currency revenue results are calculated by translating current period revenues in local currency into U.S. dollars at the weighted average exchange rates of the comparable prior period.\\n Three Months Ended\\nDecember 31,\\nYear Ended\\nDecember 31,\\n2021\\n2020\\n2021\\n2020\\nStock-based compensation expenses\\n$ \\xa0 \\xa0 17,028\\n$ \\xa0 \\xa0 \\xa0 8,989\\n$ \\xa0 \\xa0 51,580\\n$ \\xa0 \\xa0 32,785\\nTotal adjustments to GAAP cost of revenues(2)\\n17,028\\n8,989\\n51,580\\n32,785\\nStock-based compensation expenses\\n16,989\\n11,455\\n60,075\\n42,453\\nOther acquisition-related expenses\\n812\\n1,009\\n6,397\\n1,868\\nOne-time charges/(benefits)\\n73\\n(718)\\n179\\n3,922\\nTotal adjustments to GAAP selling, general and administrative expenses(3)\\n17,874\\n11,746\\n66,651\\n48,243\\nAmortization of purchased intangible assets\\n5,861\\n3,125\\n17,646\\n12,340\\nTotal adjustments to GAAP income from operations(4)\\n40,763\\n23,860\\n135,877\\n93,368\\nChange in fair value of contingent consideration included in Interest and other (loss)/ income, net\\n7,420\\n3,308\\n8,782\\n1,827\\nImpairment of investment\\n—\\n—\\n—\\n313\\nForeign exchange loss\\n1,362\\n7,920\\n7,197\\n4,667\\nProvision for income taxes:\\nTax effect on non-GAAP adjustments\\n(9,307)\\n(6,868)\\n(27,619)\\n(20,049)\\nExcess tax benefits related to stock-based compensation\\n(18,799)\\n(7,655)\\n(71,628)\\n(36,646)\\nTotal adjustments to GAAP net income(5)\\n$ \\xa0 \\xa0 21,439\\n$ \\xa0 \\xa0 20,565\\n$ \\xa0 \\xa0 52,609\\n$ \\xa0 \\xa0 43,480\\nEPAM SYSTEMS, INC. AND SUBSIDIARIESReconciliations of Guidance Non-GAAP Financial Measures to Comparable GAAP Financial Measures(Unaudited)\\n EPAM SYSTEMS, INC. AND SUBSIDIARIESCONSOLIDATED STATEMENTS OF INCOME(Unaudited)(In\\xa0thousands, except per share data)\\nThree Months EndedDecember 31,\\nYear EndedDecember 31,\\n2021\\n2020\\n2021\\n2020\\nRevenues\\n$ 1,107,464\\n$ \\xa0 \\xa0 723,493\\n$ 3,758,144\\n$ 2,659,478\\nOperating expenses:\\nCost of revenues (exclusive of depreciation and amortization)\\n727,267\\n465,792\\n2,483,697\\n1,732,522\\nSelling, general and administrative expenses\\n190,939\\n128,929\\n648,736\\n484,758\\nDepreciation and amortization expense\\n23,591\\n16,779\\n83,395\\n62,874\\nIncome from operations\\n165,667\\n111,993\\n542,316\\n379,324\\nInterest and other (loss)/income, net\\n(4,356)\\n(2,053)\\n(1,727)\\n3,822\\nForeign exchange loss\\n(1,362)\\n(7,920)\\n(7,197)\\n(4,667)\\nIncome before provision for income taxes\\n159,949\\n102,020\\n533,392\\n378,479\\nProvision for income taxes\\n17,670\\n16,481\\n51,740\\n51,319\\nNet income\\n$ \\xa0 \\xa0 142,279\\n$ \\xa0 \\xa0 \\xa0 85,539\\n$ \\xa0 \\xa0 481,652\\n$ \\xa0 \\xa0 327,160\\nNet income per share:\\nBasic\\n$ \\xa0 \\xa0 \\xa0 \\xa0 \\xa0 2.51\\n$ \\xa0 \\xa0 \\xa0 \\xa0 \\xa0 1.53\\n$ \\xa0 \\xa0 \\xa0 \\xa0 \\xa0 8.52\\n$ \\xa0 \\xa0 \\xa0 \\xa0 \\xa0 5.87\\nDiluted\\n$ \\xa0 \\xa0 \\xa0 \\xa0 \\xa0 2.40\\n$ \\xa0 \\xa0 \\xa0 \\xa0 \\xa0 1.46\\n$ \\xa0 \\xa0 \\xa0 \\xa0 \\xa0 8.15\\n$ \\xa0 \\xa0 \\xa0 \\xa0 \\xa0 5.60\\nShares used in calculation of net income per share:\\nBasic\\n56,754\\n56,031\\n56,511\\n55,727\\nDiluted\\n59,254\\n58,774\\n59,064\\n58,446\\nEPAM SYSTEMS, INC. AND SUBSIDIARIESCONSOLIDATED BALANCE SHEETS(Unaudited)(In thousands, except par value)\\n Reconciliation of expected GAAP to non-GAAP income from operations as a percentage of revenues is presented in the table below:\\nFirst Quarter 2022\\nFull Year 2022\\nGAAP income from operations as a percentage of revenues\\n14.5% to 15.5\\xa0%\\n13.5% to 14.5\\xa0%\\nStock-based compensation expenses\\n1.6 %\\n2.4 %\\nIncluded in cost of revenues (exclusive of depreciation and amortization)\\n0.7 %\\n1.1 %\\nIncluded in selling, general and administrative expenses\\n0.9 %\\n1.3 %\\nAmortization of purchased intangible assets\\n0.4 %\\n0.6 %\\nNon-GAAP income from operations as a percentage of revenues\\n16.5% to 17.5%\\n16.5% to 17.5%\\nReconciliation of expected GAAP to non-GAAP effective tax rate is presented in the table below:\\nFirst Quarter 2022\\nFull Year 2022\\nGAAP effective tax rate (approximately)\\n8 %\\n15 %\\nTax effect on non-GAAP adjustments\\n1.8 %\\n2.0 %\\nExcess tax benefits related to stock-based compensation\\n12.2 %\\n5.0 %\\nNon-GAAP effective tax rate (approximately)\\n22 %\\n22 %\\nReconciliation of expected GAAP to non-GAAP diluted earnings per share is presented in the table below:\\nFirst Quarter 2022\\nFull Year 2022\\nGAAP diluted earnings per share\\n$2.65 to $2.73\\n$10.43 to $10.76\\nStock-based compensation expenses\\n0.32\\n1.94\\nIncluded in cost of revenues (exclusive of depreciation and amortization)\\n0.15\\n0.90\\nIncluded in selling, general and administrative expenses\\n Three Months Ended December 31, 2021\\nYear Ended December 31, 2021\\nGAAP\\nAdjustments\\nNon-GAAP\\nGAAP\\nAdjustments\\nNon-GAAP\\nCost of revenues (exclusive of depreciation and amortization)(2)\\n$ 727,267\\n$ (17,028)\\n$ 710,239\\n$ \\xa02,483,697\\n$ (51,580)\\n$ \\xa02,432,117\\nSelling, general and administrative expenses(3)\\n$ 190,939\\n$ (17,874)\\n$ 173,065\\n$ \\xa0648,736\\n$ (66,651)\\n$ \\xa0582,085\\nIncome from operations(4)\\n$ 165,667\\n$ \\xa040,763\\n$ 206,430\\n$ \\xa0542,316\\n$ \\xa0135,877\\n$ \\xa0678,193\\nOperating margin\\n15.0 %\\n3.6 %\\n18.6 %\\n14.4 %\\n3.6 %\\n18.0 %\\nNet income(5)\\n$ 142,279\\n$ \\xa021,439\\n$ 163,718\\n$ \\xa0481,652\\n$ \\xa052,609\\n$ \\xa0534,261\\nDiluted earnings per share\\n$ \\xa0 \\xa0 \\xa0 \\xa02.40\\n$ \\xa0 \\xa0 \\xa0 2.76\\n$ \\xa0 \\xa0 \\xa0 \\xa08.15\\n$ \\xa0 \\xa0 \\xa0 \\xa09.05\\nThree Months Ended December 31, 2020\\n\"]"
      ]
     },
     "execution_count": 40,
     "metadata": {},
     "output_type": "execute_result"
    }
   ],
   "source": [
    "contexts[0]"
   ]
  },
  {
   "cell_type": "code",
   "execution_count": 39,
   "metadata": {},
   "outputs": [
    {
     "data": {
      "text/plain": [
       "['The total number of employees (EPAMers) at EPAM Systems, Inc. is not provided in the given information.',\n",
       " 'EPAM Systems announced the successful completion of its acquisition of First Derivative on the date the information was released, but the specific date of the acquisition was not provided in the given context.',\n",
       " \"TelescopeAI® is a platform developed by EPAM, a leading global provider of digital platform engineering and software development services. It is designed to provide actionable insights and analytics to help businesses make informed decisions and increase productivity. TelescopeAI® combines EPAM's integrated business, experience, and technology consulting services with advanced data analytics capabilities to deliver solutions for various verticals and business processes. It offers features such as specialized safety and compliance solutions for industries like oil and gas, workforce management for healthcare, and clinical trials support for life sciences. Overall, TelescopeAI® aims to provide organizations with the resources and insights needed to drive growth and improve operational efficiency.\",\n",
       " 'Based on the given context, there is no specific information about the InfoNgen software product. The context primarily focuses on EPAM Systems, a digital transformation services and product engineering company, and its achievements, expansions, and partnerships. InfoNgen is not mentioned in the provided information.',\n",
       " 'EPAM Systems, Inc. (NYSE: EPAM) is a global software engineering and digital transformation services company. It was founded in 1993 and has since become a leading provider of digital engineering, cloud, and AI-enabled transformation services. EPAM offers a wide range of services, including software development, IT infrastructure management, API integration, cloud modernization, automation, and security. It serves global enterprises and ambitious startups, providing business and experience consulting services. EPAM has a strong focus on technology and innovation, leveraging its expertise to help clients achieve their digital goals.']"
      ]
     },
     "execution_count": 39,
     "metadata": {},
     "output_type": "execute_result"
    }
   ],
   "source": [
    "answers"
   ]
  },
  {
   "cell_type": "code",
   "execution_count": 16,
   "metadata": {},
   "outputs": [
    {
     "name": "stdout",
     "output_type": "stream",
     "text": [
      "5\n",
      "5\n",
      "5\n",
      "5\n"
     ]
    }
   ],
   "source": [
    "print(len(answers))\n",
    "print(len(questions))\n",
    "print(len(contexts))\n",
    "print(len(ground_truths))"
   ]
  },
  {
   "cell_type": "code",
   "execution_count": 17,
   "metadata": {},
   "outputs": [
    {
     "data": {
      "text/plain": [
       "[[\"US-based software engineering services provider EPAM Systems has announced the expansion of its IT operations in India by opening two new offices in Bengaluru and Chennai. ... will accommodate over 2,100 employees. Designed to reflect the 'home of the modern engineer,' these spaces offer collaborative environments and access to cutting-edge\",\n",
       "  \"An interview with Arkadiy Dobkin, founder, CEO, president and chair of EPAM Systems. The onset of war in Eastern Europe in February 2022 was a particularly complex challenge for EPAM Systems. Of the U.S.-based digital transformation services and product engineering company's more than 55,000 employees, 60 percent lived in either Ukraine, Belarus or Russia — including almost 15,000 in Ukraine.\",\n",
       "  'NEWTOWN, Pa., Feb. 18, 2021 /PRNewswire/ -- EPAM Systems, Inc. (NYSE: EPAM), a leading global provider of digital platform engineering and software development services, today announced results for its fourth quarter and full year ended December 31, 2020. \"Our strong year-end financial performance is underscored by our diverse set of offerings and was made possible by the thousands of EPAMers'],\n",
       " ['NEWTOWN, PA, USA, and NEWRY, N. IRELAND, October 7, 2024 — EPAM Systems, Inc. (NYSE: EPAM), a leading digital transformation services and product engineering company, today announced its agreement to acquire First Derivative, a Northern Ireland-headquartered managed services and consulting business for the capital markets industry with more',\n",
       "  'NEWTOWN, PA, USA, and NEWRY, N. IRELAND, December 03, 2024 — EPAM Systems, Inc. (NYSE: EPAM), a leading digital transformation services and product engineering company, today announced the successful completion of its acquisition of First Derivative, a Northern Ireland-headquartered managed services and consulting business for the capital',\n",
       "  \"(In thousands, except par value)\\nAs of\\nSeptember 30,\\n2023\\nAs of\\nDecember 31,\\n2022\\nAssets\\nCurrent assets\\nCash and cash equivalents\\n$\\xa0\\xa0\\xa0 1,872,977\\n$\\xa0\\xa0\\xa0 1,681,344\\nTrade receivables and contract assets, net of allowance of $10,884\\nand $15,310, respectively\\n913,029\\n932,626\\nShort-term investments\\n60,431\\n60,336\\nPrepaid and other current assets\\n78,851\\n85,319\\nTotal current assets\\n2,925,288\\n2,759,625\\nProperty and equipment, net\\n239,654\\n273,348\\nOperating lease right-of-use assets, net\\n136,311\\n148,780\\nIntangible assets, net\\n69,730\\n77,652\\nGoodwill\\n548,177\\n529,072\\nDeferred tax assets\\n187,524\\n172,797\\nOther noncurrent assets\\n55,588\\n47,877\\nTotal assets\\n$\\xa0\\xa0\\xa0 4,162,272\\n$\\xa0\\xa0\\xa0 4,009,151\\nLiabilities\\nCurrent liabilities\\nAccounts payable\\n$\\xa0\\xa0\\xa0\\xa0\\xa0\\xa0\\xa0\\xa0 25,415\\n$\\xa0\\xa0\\xa0\\xa0\\xa0\\xa0\\xa0\\xa0 30,852\\nAccrued compensation and benefits expenses\\n392,417\\n475,871\\nAccrued expenses and other current liabilities\\n127,898\\n154,339\\nIncome taxes payable, current\\n29,554\\n46,069\\nOperating lease liabilities, current\\n38,294\\n40,352\\nTotal current liabilities\\n613,578\\n747,483\\nLong-term debt\\n27,500\\n27,693\\nOperating lease liabilities, noncurrent\\n108,332\\n122,317\\nOther noncurrent liabilities\\n112,844\\n108,648\\nTotal liabilities\\n862,254\\n1,006,141\\nCommitments and contingencies\\nEquity\\nStockholders' equity\\nCommon stock, $0.001 par value; 160,000 shares authorized; 57,706 and 57,668\\nshares issued, 57,693 and 57,655 shares outstanding at September 30, 2023 and\\nDecember 31, 2022, respectively\\n58\\n58\\nAdditional paid-in capital\\n951,086\\n847,965\\nRetained earnings\\n2,440,043\\n2,248,948\\nTreasury stock\\n(118)\\n(118)\\nAccumulated other comprehensive loss\\n(91,630)\\n(95,321)\\nTotal EPAM Systems, Inc. stockholders' equity\\n3,299,439\\n3,001,532\\nNoncontrolling interest in consolidated subsidiaries\\n579\\n1,478\\nTotal equity\\n3,300,018\\n3,003,010\\nTotal liabilities and equity\\n$\\xa0\\xa0\\xa0 4,162,272\\n$\\xa0\\xa0\\xa0 4,009,151\\nEPAM SYSTEMS, INC. AND SUBSIDIARIES\\nReconciliations of Non-GAAP Financial Measures to Comparable GAAP Financial Measures\\n(Unaudited)\\n(In thousands, except percent and per share amounts)\\nReconciliation of revenue decline as reported on a GAAP basis to revenue decline on an organic constant currency basis excluding the impact of the exit from Russia is presented in the table below:\\nThree Months Ended\\nSeptember 30, 2023\\nNine Months Ended\\nSeptember 30, 2023\\n Reconciliation of various income statement amounts from GAAP to non-GAAP for the three and nine months ended September 30, 2023 and 2022:\\nThree Months Ended\\nSeptember 30, 2023\\nNine Months Ended\\nSeptember 30, 2023\\nGAAP\\nAdjustments\\nNon-GAAP\\nGAAP\\nAdjustments\\nNon-GAAP\\nCost of revenues (exclusive of depreciation and amortization)(2)\\n$ 794,265\\n$\\xa0 (21,146)\\n$ 773,119\\n$\\xa0 2,458,881\\n$\\xa0 (67,281)\\n$\\xa0 2,391,600\\nSelling, general and administrative expenses(3)\\n$ 194,829\\n$\\xa0 (28,828)\\n$ 166,001\\n$ 601,093\\n$\\xa0 (76,021)\\n$ 525,072\\nIncome from operations(4)\\n$ 114,028\\n$\\xa0\\xa0\\xa0 81,584\\n$ 195,612\\n$ 378,745\\n$ 185,932\\n$ 564,677\\nOperating margin\\n9.9\\xa0%\\n7.1\\xa0%\\n17.0\\xa0%\\n10.7\\xa0%\\n5.3\\xa0%\\n16.0\\xa0%\\nNet income(5)\\n$\\xa0\\xa0\\xa0 97,204\\n$\\xa0\\xa0\\xa0 63,876\\n$ 161,080\\n$ 319,529\\n$ 144,344\\n$ 463,873\\nDiluted earnings per share\\n$\\xa0\\xa0\\xa0\\xa0\\xa0\\xa0\\xa0 1.65\\n$\\xa0\\xa0\\xa0\\xa0\\xa0\\xa0 2.73\\n$\\xa0\\xa0\\xa0\\xa0\\xa0\\xa0\\xa0 5.40\\n$\\xa0\\xa0\\xa0\\xa0\\xa0\\xa0\\xa0 7.84\\nThree Months Ended\\nSeptember 30, 2022\\nNine Months Ended\\nSeptember 30, 2022\\nGAAP\\nAdjustments\\nNon-GAAP\\nGAAP\\nAdjustments\\nNon-GAAP\\nCost of revenues (exclusive of depreciation and amortization)(2)\\n$ 826,796\\n$\\xa0 (21,358)\\n$ 805,438\\n$\\xa0 2,453,955\\n$\\xa0 (48,576)\\n$\\xa0 2,405,379\\nSelling, general and administrative expenses(3)\\n$ 198,021\\n$\\xa0 (25,221)\\n$ 172,800\\n$ 667,825\\n$\\xa0 (130,914)\\n$ 536,911\\nIncome from operations(4)\\n$ 180,227\\n$\\xa0\\xa0\\xa0 52,163\\n$ 232,390\\n$ 402,489\\n$ 196,074\\n$ 598,563\\nOperating margin\\n14.7\\xa0%\\n4.2\\xa0%\\n18.9\\xa0%\\n11.2\\xa0%\\n5.5\\xa0%\\n16.7\\xa0%\\nNet income(5)\\n$ 156,054\\n$\\xa0\\xa0\\xa0 27,685\\n$ 183,739\\n$ 264,377\\n$ 206,643\\n$ 471,020\\nDiluted earnings per share\\n$\\xa0\\xa0\\xa0\\xa0\\xa0\\xa0\\xa0 2.63\\n$\\xa0\\xa0\\xa0\\xa0\\xa0\\xa0 3.10\\n$\\xa0\\xa0\\xa0\\xa0\\xa0\\xa0\\xa0 4.47\\n$\\xa0\\xa0\\xa0\\xa0\\xa0\\xa0\\xa0 7.97\\nItems (2) through (5) above are detailed in the table below with the specific cross-reference noted in the appropriate item.\\n Total adjustments to GAAP cost of revenues(2)\\n21,146\\n21,358\\n67,281\\n48,576\\nStock-based compensation expenses\\n19,705\\n15,813\\n59,967\\n36,510\\nOne-time charges (d)\\n7,178\\n2,360\\n7,420\\n6,236\\nHumanitarian support in Ukraine (b)\\n643\\n1,631\\n5,309\\n13,219\\nOther acquisition-related expenses\\n867\\n264\\n2,448\\n934\\nGeographic repositioning (e)\\n435\\n4,425\\n877\\n37,497\\nRussia long-lived asset impairment charges (f)\\n—\\n—\\n—\\n19,570\\nRussia business restructuring (g)\\n—\\n728\\n—\\n16,948\\nTotal adjustments to GAAP selling, general and administrative expenses(3)\\n28,828\\n25,221\\n76,021\\n130,914\\nLoss on sale of business\\xa0 (h)\\n25,922\\n—\\n25,922\\n—\\nAmortization of acquired intangible assets\\n5,688\\n5,584\\n16,708\\n16,584\\nTotal adjustments to GAAP income from operations(4)\\n81,584\\n52,163\\n185,932\\n196,074\\nForeign exchange (gain)/loss\\n(3,893)\\n(6,691)\\n6,725\\n102,035\\nChange in fair value of contingent consideration included in Interest and other income, net\\n300\\n2,414\\n1,818\\n8,520\\nImpairment of financial assets\\n—\\n—\\n—\\n1,300\\nProvision for income taxes:\\nTax effect on non-GAAP adjustments\\n(12,395)\\n(8,044)\\n(34,060)\\n(61,443)\\n 1.9)\\xa0%\\n(2.0)\\xa0%\\nNon-GAAP effective tax rate (approximately)\\n23\\xa0%\\n23\\xa0%\\nReconciliation of expected GAAP to non-GAAP diluted earnings per share is presented in the table below:\\nFourth Quarter 2023\\nFull Year 2023\\nGAAP diluted earnings per share\\n$1.67 to $1.75\\n$7.07 to $7.15\\nStock-based compensation expenses\\n0.62\\n2.47\\nIncluded in cost of revenues (exclusive of depreciation and amortization)\\n0.28\\n1.12\\nIncluded in selling, general and administrative expenses\\n0.34\\n1.35\\nUnbilled business continuity resources (a)\\n—\\n0.16\\nHumanitarian support in Ukraine (b)\\n0.06\\n0.29\\nOne-time charges (d)\\n0.25\\n0.40\\nLoss on sale of business (h)\\n—\\n0.43\\nOther acquisition-related expenses\\n—\\n0.04\\nAmortization of acquired intangible assets\\n0.10\\n0.38\\nChange in fair value of contingent consideration\\n—\\n0.03\\nForeign exchange loss\\n—\\n0.12\\nProvision for income taxes:\\nTax effect on non-GAAP adjustments\\n(0.21)\\n(0.78)\\nExcess tax benefits related to stock-based compensation\\n(0.02)\\n(0.28)\\nNet discrete benefit from tax planning (i)\\n—\\n(0.02)\\n Reconciliation of expected GAAP to non-GAAP income from operations as a percentage of revenues is presented in the table below:\\nFourth Quarter 2023\\nFull Year 2023\\nGAAP income from operations as a percentage of revenues\\n10% to 11%\\n10% to 11%\\nStock-based compensation expenses\\n3.2\\xa0%\\n3.1\\xa0%\\nIncluded in cost of revenues (exclusive of depreciation and amortization)\\n1.4\\xa0%\\n1.4\\xa0%\\nIncluded in selling, general and administrative expenses\\n1.8\\xa0%\\n1.7\\xa0%\\nUnbilled business continuity resources (a)\\n—\\xa0%\\n0.2\\xa0%\\nHumanitarian support in Ukraine (b)\\n0.2\\xa0%\\n0.3\\xa0%\\nOne-time charges (d)\\n1.2\\xa0%\\n0.4\\xa0%\\nLoss on sale of business (h)\\n—\\xa0%\\n0.5\\xa0%\\nAmortization of acquired intangible assets\\n0.4\\xa0%\\n0.5\\xa0%\\nNon-GAAP income from operations as a percentage of revenues\\n15% to 16%\\n15% to 16%\\nReconciliation of expected GAAP to non-GAAP effective tax rate is presented in the table below:\\nFourth Quarter 2023\\nFull Year 2023\\nGAAP effective tax rate (approximately)\\n24\\xa0%\\n22\\xa0%\\nExcess tax benefits related to stock-based compensation\\n0.9\\xa0%\\n3.0\\xa0%\\nTax effect on non-GAAP adjustments\\n(\"],\n",
       " ['NEWTOWN, PA - January 23, 2020 - EPAM Systems, Inc. (NYSE: EPAM), a leading global provider of digital platform engineering and software development services, today announced that, for the second consecutive year, its TelescopeAI platform has been named a winner in the 2020 BIG Innovation Awards presented by the Business Intelligence Group. . Designed to help adaptive enterprises',\n",
       "  'NEWTOWN, PA, USA, June 15, 2023 - EPAM Systems, Inc. (NYSE: EPAM), a leading digital transformation services and product engineering company, today announced a strategic, global partnership with Google Cloud to develop and deploy Artificial Intelligence (AI)-first Google Cloud solutions to help enterprises overcome operational challenges and',\n",
       "  'EPAM’s Corporate Governance Structure | EPAM Global (English) Responsible AI AI-Accelerated Engineering EPAM AI/Run™ AI Insights Cybersecurity Insights Contact Investor Relations Responsible AI EPAM AI/Run™ Insights Expand: Insights AI Insights Cybersecurity Insights Contact Investor Relations Global (English) Enter your search query or select one from the list of frequent searches below. EPAM’s History EPAM’S HISTORY TEST IO(opens in a new tab) Reliable AI Lab(opens in a new tab) Explore our enterprise software products, open source solutions and accelerators on EPAM SolutionsHub. PARTNERS policies PRIVACY POLICY UK MODERN SLAVERY STATEMENT (PDF) LinkedIn (opens in a new tab) Twitter (opens in a new tab) Facebook (opens in a new tab) Instagram (opens in a new tab) Youtube (opens in a new tab)'],\n",
       " ['EPAM is a Leader according to the 2023 Gartner Magic Quadrant ™ for Custom Software Development Services, Worldwide. NEWTOWN, PA, USA, December 7, 2023 - EPAM Systems, Inc. (NYSE: EPAM), a leading digital transformation services and product engineering company, today announced it has been positioned as a Leader in custom software development services by Gartner.',\n",
       "  \"US-based software engineering services provider EPAM Systems has announced the expansion of its IT operations in India by opening two new offices in Bengaluru and Chennai. EPAM's new offices feature low-carbon infrastructure and green charging points.\",\n",
       "  'Entering 2021, the Pennsylvania-based company has almost 53,000 employees in more than 40 countries. EPAM also offers three in-house brands available to clients in TelescopeAI, InfoNgen, and EPAM Continuum. The EPAM Systems includes 26 digital partners and 23 technology partners. Some of the top IT partners listed include AWS, Appian'],\n",
       " [\"EPAM Systems is a global software engineering services company with three decades of consistent growth and a recent placement in our top enterprise IT channel partners. Specializing in engineering, design, and digital transformation, EPAM's presence in North America and Europe is sizeable - and there are no signs of the company slowing down\",\n",
       "  'About EPAM Systems. Since 1993, EPAM Systems, Inc. (NYSE: EPAM) has used its software engineering expertise to become a leading global provider of digital engineering, cloud and AI-enabled transformation services, and a leading business and experience consulting partner for global enterprises and ambitious startups.',\n",
       "  \"Since 1993, EPAM Systems, Inc. (NYSE: EPAM) has used its software engineering expertise to become a leading global provider of digital engineering, cloud and AI-enabled transformation services, and a leading business and experience consulting partner for global enterprises and ambitious startups. We address our clients' transformation\"]]"
      ]
     },
     "execution_count": 17,
     "metadata": {},
     "output_type": "execute_result"
    }
   ],
   "source": [
    "#contexts = [\" \".join(c) for c in contexts]\n",
    "contexts"
   ]
  },
  {
   "cell_type": "code",
   "execution_count": 18,
   "metadata": {},
   "outputs": [],
   "source": [
    "# https://docs.ragas.io/en/v0.1.21/howtos/customisations/azure-openai.html\n",
    "# https://docs.ragas.io/en/latest/concepts/components/eval_dataset/#creating-an-evaluation-dataset-from-singleturnsamples"
   ]
  },
  {
   "cell_type": "code",
   "execution_count": 45,
   "metadata": {},
   "outputs": [
    {
     "data": {
      "text/plain": [
       "[[\"As of\\nMarch 31,\\n2023\\nAs of\\nDecember 31,\\n2022\\nAssets\\nCurrent assets\\nCash and cash equivalents\\n$\\xa0\\xa0\\xa0 1,749,422\\n$\\xa0\\xa0\\xa0 1,681,344\\nTrade receivables and contract assets, net of allowance of 14,184\\nand 15,310, respectively\\n934,236\\n932,626\\nShort-term investments\\n60,373\\n60,336\\nPrepaid and other current assets\\n86,758\\n85,319\\nTotal current assets\\n2,830,789\\n2,759,625\\nProperty and equipment, net\\n267,067\\n273,348\\nOperating lease right-of-use assets, net\\n146,815\\n148,780\\nIntangible assets, net\\n73,113\\n77,652\\nGoodwill\\n533,730\\n529,072\\nDeferred tax assets\\n167,654\\n172,797\\nOther noncurrent assets\\n52,177\\n47,877\\nTotal assets\\n$\\xa0\\xa0\\xa0 4,071,345\\n$\\xa0\\xa0\\xa0 4,009,151\\nLiabilities\\nCurrent liabilities\\nAccounts payable\\n$\\xa0\\xa0\\xa0\\xa0\\xa0\\xa0\\xa0\\xa0 28,857\\n$\\xa0\\xa0\\xa0\\xa0\\xa0\\xa0\\xa0\\xa0 30,852\\nAccrued compensation and benefits expenses\\n444,728\\n475,871\\nAccrued expenses and other current liabilities\\n130,902\\n154,339\\nIncome taxes payable, current\\n37,439\\n46,069\\nOperating lease liabilities, current\\n40,932\\n40,352\\nTotal current liabilities\\n682,858\\n747,483\\nLong-term debt\\n28,253\\n27,693\\nOperating lease liabilities, noncurrent\\n117,913\\n122,317\\nOther noncurrent liabilities\\n111,879\\n108,648\\nTotal liabilities\\n940,903\\n1,006,141\\nCommitments and contingencies\\nStockholders' equity\\nCommon stock, $0.001 par value; 160,000 shares authorized; 57,862 and 57,668\\nshares issued, 57,848 and 57,655 shares outstanding at March 31, 2023 andDecember 31, 2022, respectively\\n58\\n58\\nAdditional paid-in capital\\n864,254\\n847,965\\nRetained earnings\\n2,342,730\\n2,248,948\\nTreasury stock\\n(118)\\n(118)\\nAccumulated other comprehensive loss\\n(77,960)\\n(95,321)\\nTotal EPAM Systems Inc. stockholders' equity\\n3,128,964\\n3,001,532\\nNoncontrolling interest in consolidated subsidiaries\\n1,478\\n1,478\\nTotal equity\\n3,130,442\\n3,003,010\\nTotal liabilities and stockholders' equity\\n$\\xa0\\xa0\\xa0 4,071,345\\n$\\xa0\\xa0\\xa0 4,009,151\\nEPAM SYSTEMS, INC. AND SUBSIDIARIES\\nReconciliations of Non-GAAP Financial Measures to Comparable GAAP Financial Measures\\n(Unaudited)\\n(In thousands, except percent and per share amounts)\\nReconciliation of revenue growth as reported on a GAAP basis to revenue growth on an organic constant currency basis excluding\\nthe impact of the exit from Russia is presented in the table below:\\nThree Months Ended\\nMarch 31, 2023\\n Three Months Ended\\nMarch 31,\\n2023\\n2022\\nStock-based compensation expense/(benefit)\\n$\\xa0\\xa0\\xa0\\xa0\\xa0\\xa0\\xa0\\xa0 16,011\\n$\\xa0\\xa0\\xa0\\xa0\\xa0\\xa0\\xa0\\xa0\\xa0\\xa0\\xa0\\xa0 (424)\\nHumanitarian support in Ukraine\\xa0(a)\\n2,440\\n19,156\\nUnbilled business continuity resources (b)\\n7,370\\n2,570\\nDiscretionary compensation (c)\\n—\\n(21,356)\\nTotal adjustments to GAAP cost of revenues(2)\\n25,821\\n(54)\\nStock-based compensation expenses\\n22,568\\n7,536\\nOther acquisition-related expenses\\n241\\n579\\nOne-time (benefits)/charges\\n(99)\\n1,363\\nHumanitarian support in Ukraine\\xa0(a)\\n3,617\\n6,500\\nGeographic repositioning (d)\\n212\\n18,706\\nRussia long-lived asset impairment charges (e)\\n—\\n19,570\\nTotal adjustments to GAAP selling, general and administrative expenses(3)\\n26,539\\n54,254\\nAmortization of acquired intangible assets\\n5,537\\n5,244\\nTotal adjustments to GAAP income from operations(4)\\n57,897\\n59,444\\nChange in fair value of contingent consideration included in Interest and other income, net\\n300\\n3,373\\nImpairment of financial assets\\n—\\n1,300\\nForeign exchange loss\\n4,608\\n22,785\\nProvision for income taxes:\\nTax effect on non-GAAP adjustments\\n(11,514)\\n(16,469)\\nExcess tax benefits related to stock-based compensation\\n(6,022)\\n(13,109)\\nNet discrete benefit from tax planning (f)\\n(968)\\n—\\nTotal adjustments to GAAP net income(5)\\n$\\xa0\\xa0\\xa0\\xa0\\xa0\\xa0\\xa0\\xa0 44,301\\n$\\xa0\\xa0\\xa0\\xa0\\xa0\\xa0\\xa0\\xa0 57,324\\n(a) Humanitarian support in Ukraine includes expenses related to EPAM's $100 million humanitarian commitment in response to Russia's invasion of Ukraine to support EPAM professionals and their families in and displaced from Ukraine. Reconciliation of expected GAAP to non-GAAP income from operations as a percentage of revenues is presented in the table below:\\nSecond Quarter 2023\\nFull Year 2023\\nGAAP income from operations as a percentage of revenues\\n10% to 11%\\n11.5% to 12.5%\\nStock-based compensation expenses\\n2.8\\xa0%\\n3.0\\xa0%\\nIncluded in cost of revenues (exclusive of depreciation and amortization)\\n1.3\\xa0%\\n1.4\\xa0%\\nIncluded in selling, general and administrative expenses\\n1.5\\xa0%\\n1.6\\xa0%\\nHumanitarian support in Ukraine\\xa0(a)\\n0.3\\xa0%\\n0.3\\xa0%\\nUnbilled business continuity resources (b)\\n0.2\\xa0%\\n0.2\\xa0%\\nOne-time charges\\n0.2\\xa0%\\n0.1\\xa0%\\nAmortization of acquired intangible assets\\n0.5\\xa0%\\n0.4\\xa0%\\nNon-GAAP income from operations as a percentage of revenues\\n14% to 15%\\n15.5% to 16.5%\\nReconciliation of expected GAAP to non-GAAP effective tax rate is presented in the table below:\\nSecond Quarter 2023\\nFull Year 2023\\nGAAP effective tax rate (approximately)\\n20\\xa0%\\n21\\xa0%\\nTax effect on non-GAAP adjustments\\n1.9\\xa0%\\n1.4\\xa0%\\nExcess tax benefits related to stock-based compensation\\n1.1\\xa0%\\n0.6\\xa0%\\nNon-GAAP effective tax rate (approximately)\\n23\\xa0%\\n23\\xa0%\\nReconciliation of expected GAAP to non-GAAP diluted earnings per share is presented in the table below:\\nSecond Quarter 2023\\nFull Year 2023\\nGAAP diluted earnings per share\\n$1.82 to $1.90\\n$8.11 to $8.31\\nStock-based compensation expenses\\n0.56\\n2.48\\nIncluded in cost of revenues (exclusive of depreciation and amortization)\\n Reconciliation of various income statement amounts from GAAP to non-GAAP for the three months ended March\\xa031, 2023 and 2022:\\nThree Months Ended\\nMarch 31, 2023\\nGAAP\\nAdjustments\\nNon-GAAP\\nCost of revenues (exclusive of depreciation and amortization)(2)\\n$ 855,901\\n$\\xa0 (25,821)\\n$ 830,080\\nSelling, general and administrative expenses(3)\\n$ 211,887\\n$\\xa0 (26,539)\\n$ 185,348\\nIncome from operations(4)\\n$ 120,371\\n$\\xa0 \\xa057,897\\n$ 178,268\\nOperating margin\\n9.9\\xa0%\\n4.8\\xa0%\\n14.7\\xa0%\\nNet income(5)\\n$ 102,292\\n$\\xa0 \\xa044,301\\n$ 146,593\\nDiluted earnings per share\\n$\\xa0 \\xa0 \\xa0 \\xa01.73\\n$\\xa0\\xa0\\xa0\\xa0\\xa0\\xa0 2.47\\nThree Months Ended\\nMarch 31, 2022\\nGAAP\\nAdjustments\\nNon-GAAP\\nCost of revenues (exclusive of depreciation and amortization)(2)\\n$ 780,836\\n$\\xa0 \\xa0 \\xa0 \\xa0 \\xa0 \\xa054\\n$ 780,890\\nSelling, general and administrative expenses(3)\\n$ 237,277\\n$\\xa0 \\xa0(54,254)\\n$ 183,023\\nIncome from operations(4)\\n$ 129,242\\n$\\xa0\\xa0\\xa0 59,444\\n$ 188,686\\nOperating margin\\n11.0\\xa0%\\n5.1\\xa0%\\n16.1\\xa0%\\nNet income(5)\\n$\\xa0 \\xa089,719\\n$\\xa0\\xa0\\xa0 57,324\\n$ 147,043\\nDiluted earnings per share\\n$\\xa0 \\xa0 \\xa0 \\xa01.52\\n$\\xa0\\xa0\\xa0\\xa0\\xa0\\xa0 2.49\\nItems (2) through (5) above are detailed in the table below with the specific cross-reference noted in the appropriate item.\\n Three Months Ended\\nMarch 31,\\n2023\\n2022\\nRevenues\\n$\\xa0\\xa0\\xa0 1,210,941\\n$\\xa0\\xa0\\xa0 1,171,614\\nOperating expenses:\\nCost of revenues (exclusive of depreciation and amortization)\\n855,901\\n780,836\\nSelling, general and administrative expenses\\n211,887\\n237,277\\nDepreciation and amortization expense\\n22,782\\n24,259\\nIncome from operations\\n120,371\\n129,242\\nInterest and other income/(loss), net\\n11,521\\n(165)\\nForeign exchange loss\\n(4,608)\\n(22,785)\\nIncome before provision for income taxes\\n127,284\\n106,292\\nProvision for income taxes\\n24,992\\n16,573\\nNet income\\n$\\xa0\\xa0\\xa0\\xa0\\xa0\\xa0 102,292\\n$\\xa0\\xa0\\xa0\\xa0\\xa0\\xa0\\xa0\\xa0 89,719\\nNet income per share:\\nBasic\\n$\\xa0\\xa0\\xa0\\xa0\\xa0\\xa0\\xa0\\xa0\\xa0\\xa0\\xa0\\xa0\\xa0 1.77\\n$\\xa0\\xa0\\xa0\\xa0\\xa0\\xa0\\xa0\\xa0\\xa0\\xa0\\xa0\\xa0\\xa0 1.58\\nDiluted\\n$\\xa0\\xa0\\xa0\\xa0\\xa0\\xa0\\xa0\\xa0\\xa0\\xa0\\xa0\\xa0\\xa0 1.73\\n$\\xa0\\xa0\\xa0\\xa0\\xa0\\xa0\\xa0\\xa0\\xa0\\xa0\\xa0\\xa0\\xa0 1.52\\nShares used in calculation of net income per share:\\nBasic\\n57,702\\n56,915\\nDiluted\\n59,298\\n58,941\\nEPAM SYSTEMS, INC. AND SUBSIDIARIES\\nCONDENSED CONSOLIDATED BALANCE SHEETS\\n(Unaudited)\\n(In thousands, except par value)\\n\",\n",
       "  \"(In thousands, except par value)\\nAs of\\nSeptember 30,\\n2023\\nAs of\\nDecember 31,\\n2022\\nAssets\\nCurrent assets\\nCash and cash equivalents\\n$\\xa0\\xa0\\xa0 1,872,977\\n$\\xa0\\xa0\\xa0 1,681,344\\nTrade receivables and contract assets, net of allowance of $10,884\\nand $15,310, respectively\\n913,029\\n932,626\\nShort-term investments\\n60,431\\n60,336\\nPrepaid and other current assets\\n78,851\\n85,319\\nTotal current assets\\n2,925,288\\n2,759,625\\nProperty and equipment, net\\n239,654\\n273,348\\nOperating lease right-of-use assets, net\\n136,311\\n148,780\\nIntangible assets, net\\n69,730\\n77,652\\nGoodwill\\n548,177\\n529,072\\nDeferred tax assets\\n187,524\\n172,797\\nOther noncurrent assets\\n55,588\\n47,877\\nTotal assets\\n$\\xa0\\xa0\\xa0 4,162,272\\n$\\xa0\\xa0\\xa0 4,009,151\\nLiabilities\\nCurrent liabilities\\nAccounts payable\\n$\\xa0\\xa0\\xa0\\xa0\\xa0\\xa0\\xa0\\xa0 25,415\\n$\\xa0\\xa0\\xa0\\xa0\\xa0\\xa0\\xa0\\xa0 30,852\\nAccrued compensation and benefits expenses\\n392,417\\n475,871\\nAccrued expenses and other current liabilities\\n127,898\\n154,339\\nIncome taxes payable, current\\n29,554\\n46,069\\nOperating lease liabilities, current\\n38,294\\n40,352\\nTotal current liabilities\\n613,578\\n747,483\\nLong-term debt\\n27,500\\n27,693\\nOperating lease liabilities, noncurrent\\n108,332\\n122,317\\nOther noncurrent liabilities\\n112,844\\n108,648\\nTotal liabilities\\n862,254\\n1,006,141\\nCommitments and contingencies\\nEquity\\nStockholders' equity\\nCommon stock, $0.001 par value; 160,000 shares authorized; 57,706 and 57,668\\nshares issued, 57,693 and 57,655 shares outstanding at September 30, 2023 and\\nDecember 31, 2022, respectively\\n58\\n58\\nAdditional paid-in capital\\n951,086\\n847,965\\nRetained earnings\\n2,440,043\\n2,248,948\\nTreasury stock\\n(118)\\n(118)\\nAccumulated other comprehensive loss\\n(91,630)\\n(95,321)\\nTotal EPAM Systems, Inc. stockholders' equity\\n3,299,439\\n3,001,532\\nNoncontrolling interest in consolidated subsidiaries\\n579\\n1,478\\nTotal equity\\n3,300,018\\n3,003,010\\nTotal liabilities and equity\\n$\\xa0\\xa0\\xa0 4,162,272\\n$\\xa0\\xa0\\xa0 4,009,151\\nEPAM SYSTEMS, INC. AND SUBSIDIARIES\\nReconciliations of Non-GAAP Financial Measures to Comparable GAAP Financial Measures\\n(Unaudited)\\n(In thousands, except percent and per share amounts)\\nReconciliation of revenue decline as reported on a GAAP basis to revenue decline on an organic constant currency basis excluding the impact of the exit from Russia is presented in the table below:\\nThree Months Ended\\nSeptember 30, 2023\\nNine Months Ended\\nSeptember 30, 2023\\n Reconciliation of various income statement amounts from GAAP to non-GAAP for the three and nine months ended September 30, 2023 and 2022:\\nThree Months Ended\\nSeptember 30, 2023\\nNine Months Ended\\nSeptember 30, 2023\\nGAAP\\nAdjustments\\nNon-GAAP\\nGAAP\\nAdjustments\\nNon-GAAP\\nCost of revenues (exclusive of depreciation and amortization)(2)\\n$ 794,265\\n$\\xa0 (21,146)\\n$ 773,119\\n$\\xa0 2,458,881\\n$\\xa0 (67,281)\\n$\\xa0 2,391,600\\nSelling, general and administrative expenses(3)\\n$ 194,829\\n$\\xa0 (28,828)\\n$ 166,001\\n$ 601,093\\n$\\xa0 (76,021)\\n$ 525,072\\nIncome from operations(4)\\n$ 114,028\\n$\\xa0\\xa0\\xa0 81,584\\n$ 195,612\\n$ 378,745\\n$ 185,932\\n$ 564,677\\nOperating margin\\n9.9\\xa0%\\n7.1\\xa0%\\n17.0\\xa0%\\n10.7\\xa0%\\n5.3\\xa0%\\n16.0\\xa0%\\nNet income(5)\\n$\\xa0\\xa0\\xa0 97,204\\n$\\xa0\\xa0\\xa0 63,876\\n$ 161,080\\n$ 319,529\\n$ 144,344\\n$ 463,873\\nDiluted earnings per share\\n$\\xa0\\xa0\\xa0\\xa0\\xa0\\xa0\\xa0 1.65\\n$\\xa0\\xa0\\xa0\\xa0\\xa0\\xa0 2.73\\n$\\xa0\\xa0\\xa0\\xa0\\xa0\\xa0\\xa0 5.40\\n$\\xa0\\xa0\\xa0\\xa0\\xa0\\xa0\\xa0 7.84\\nThree Months Ended\\nSeptember 30, 2022\\nNine Months Ended\\nSeptember 30, 2022\\nGAAP\\nAdjustments\\nNon-GAAP\\nGAAP\\nAdjustments\\nNon-GAAP\\nCost of revenues (exclusive of depreciation and amortization)(2)\\n$ 826,796\\n$\\xa0 (21,358)\\n$ 805,438\\n$\\xa0 2,453,955\\n$\\xa0 (48,576)\\n$\\xa0 2,405,379\\nSelling, general and administrative expenses(3)\\n$ 198,021\\n$\\xa0 (25,221)\\n$ 172,800\\n$ 667,825\\n$\\xa0 (130,914)\\n$ 536,911\\nIncome from operations(4)\\n$ 180,227\\n$\\xa0\\xa0\\xa0 52,163\\n$ 232,390\\n$ 402,489\\n$ 196,074\\n$ 598,563\\nOperating margin\\n14.7\\xa0%\\n4.2\\xa0%\\n18.9\\xa0%\\n11.2\\xa0%\\n5.5\\xa0%\\n16.7\\xa0%\\nNet income(5)\\n$ 156,054\\n$\\xa0\\xa0\\xa0 27,685\\n$ 183,739\\n$ 264,377\\n$ 206,643\\n$ 471,020\\nDiluted earnings per share\\n$\\xa0\\xa0\\xa0\\xa0\\xa0\\xa0\\xa0 2.63\\n$\\xa0\\xa0\\xa0\\xa0\\xa0\\xa0 3.10\\n$\\xa0\\xa0\\xa0\\xa0\\xa0\\xa0\\xa0 4.47\\n$\\xa0\\xa0\\xa0\\xa0\\xa0\\xa0\\xa0 7.97\\nItems (2) through (5) above are detailed in the table below with the specific cross-reference noted in the appropriate item.\\n Total adjustments to GAAP cost of revenues(2)\\n21,146\\n21,358\\n67,281\\n48,576\\nStock-based compensation expenses\\n19,705\\n15,813\\n59,967\\n36,510\\nOne-time charges (d)\\n7,178\\n2,360\\n7,420\\n6,236\\nHumanitarian support in Ukraine (b)\\n643\\n1,631\\n5,309\\n13,219\\nOther acquisition-related expenses\\n867\\n264\\n2,448\\n934\\nGeographic repositioning (e)\\n435\\n4,425\\n877\\n37,497\\nRussia long-lived asset impairment charges (f)\\n—\\n—\\n—\\n19,570\\nRussia business restructuring (g)\\n—\\n728\\n—\\n16,948\\nTotal adjustments to GAAP selling, general and administrative expenses(3)\\n28,828\\n25,221\\n76,021\\n130,914\\nLoss on sale of business\\xa0 (h)\\n25,922\\n—\\n25,922\\n—\\nAmortization of acquired intangible assets\\n5,688\\n5,584\\n16,708\\n16,584\\nTotal adjustments to GAAP income from operations(4)\\n81,584\\n52,163\\n185,932\\n196,074\\nForeign exchange (gain)/loss\\n(3,893)\\n(6,691)\\n6,725\\n102,035\\nChange in fair value of contingent consideration included in Interest and other income, net\\n300\\n2,414\\n1,818\\n8,520\\nImpairment of financial assets\\n—\\n—\\n—\\n1,300\\nProvision for income taxes:\\nTax effect on non-GAAP adjustments\\n(12,395)\\n(8,044)\\n(34,060)\\n(61,443)\\n 1.9)\\xa0%\\n(2.0)\\xa0%\\nNon-GAAP effective tax rate (approximately)\\n23\\xa0%\\n23\\xa0%\\nReconciliation of expected GAAP to non-GAAP diluted earnings per share is presented in the table below:\\nFourth Quarter 2023\\nFull Year 2023\\nGAAP diluted earnings per share\\n$1.67 to $1.75\\n$7.07 to $7.15\\nStock-based compensation expenses\\n0.62\\n2.47\\nIncluded in cost of revenues (exclusive of depreciation and amortization)\\n0.28\\n1.12\\nIncluded in selling, general and administrative expenses\\n0.34\\n1.35\\nUnbilled business continuity resources (a)\\n—\\n0.16\\nHumanitarian support in Ukraine (b)\\n0.06\\n0.29\\nOne-time charges (d)\\n0.25\\n0.40\\nLoss on sale of business (h)\\n—\\n0.43\\nOther acquisition-related expenses\\n—\\n0.04\\nAmortization of acquired intangible assets\\n0.10\\n0.38\\nChange in fair value of contingent consideration\\n—\\n0.03\\nForeign exchange loss\\n—\\n0.12\\nProvision for income taxes:\\nTax effect on non-GAAP adjustments\\n(0.21)\\n(0.78)\\nExcess tax benefits related to stock-based compensation\\n(0.02)\\n(0.28)\\nNet discrete benefit from tax planning (i)\\n—\\n(0.02)\\n Reconciliation of expected GAAP to non-GAAP income from operations as a percentage of revenues is presented in the table below:\\nFourth Quarter 2023\\nFull Year 2023\\nGAAP income from operations as a percentage of revenues\\n10% to 11%\\n10% to 11%\\nStock-based compensation expenses\\n3.2\\xa0%\\n3.1\\xa0%\\nIncluded in cost of revenues (exclusive of depreciation and amortization)\\n1.4\\xa0%\\n1.4\\xa0%\\nIncluded in selling, general and administrative expenses\\n1.8\\xa0%\\n1.7\\xa0%\\nUnbilled business continuity resources (a)\\n—\\xa0%\\n0.2\\xa0%\\nHumanitarian support in Ukraine (b)\\n0.2\\xa0%\\n0.3\\xa0%\\nOne-time charges (d)\\n1.2\\xa0%\\n0.4\\xa0%\\nLoss on sale of business (h)\\n—\\xa0%\\n0.5\\xa0%\\nAmortization of acquired intangible assets\\n0.4\\xa0%\\n0.5\\xa0%\\nNon-GAAP income from operations as a percentage of revenues\\n15% to 16%\\n15% to 16%\\nReconciliation of expected GAAP to non-GAAP effective tax rate is presented in the table below:\\nFourth Quarter 2023\\nFull Year 2023\\nGAAP effective tax rate (approximately)\\n24\\xa0%\\n22\\xa0%\\nExcess tax benefits related to stock-based compensation\\n0.9\\xa0%\\n3.0\\xa0%\\nTax effect on non-GAAP adjustments\\n(\",\n",
       "  \"As of\\nDecember 31,\\n2021\\nAs of\\nDecember 31,\\n2020\\nAssets\\nCurrent assets\\nCash and cash equivalents\\n$ \\xa0 \\xa01,446,625\\n$ \\xa0 \\xa01,322,143\\nShort-term investments\\n—\\n60,007\\nTrade receivables and contract assets, net of allowance of $5,521 and $4,886, respectively\\n768,928\\n501,062\\nPrepaid and other current assets\\n53,927\\n29,570\\nTotal current assets\\n2,269,480\\n1,912,782\\nProperty and equipment, net\\n236,214\\n169,533\\nOperating lease right-of-use assets, net\\n184,841\\n228,672\\nIntangible assets, net\\n101,143\\n51,975\\nGoodwill\\n530,723\\n211,956\\nDeferred tax assets\\n143,928\\n92,454\\nOther noncurrent assets\\n56,898\\n53,960\\nTotal assets\\n$ \\xa0 3,523,227\\n$ \\xa0 2,721,332\\nLiabilities\\nCurrent liabilities\\nAccounts payable\\n$ \\xa0 \\xa0 \\xa0 \\xa0 24,847\\n$ \\xa0 \\xa0 \\xa0 \\xa0 10,189\\nAccrued compensation and benefits expenses\\n502,997\\n294,709\\nAccrued expenses and other current liabilities\\n142,014\\n79,690\\nShort-term debt\\n16,018\\n—\\nIncome taxes payable, current\\n27,440\\n20,603\\nOperating lease liabilities, current\\n50,104\\n60,759\\nTotal current liabilities\\n763,420\\n465,950\\nLong-term debt\\n30,234\\n25,038\\nIncome taxes payable, noncurrent\\n42,454\\n43,448\\nOperating lease liabilities, noncurrent\\n142,802\\n180,604\\nOther noncurrent liabilities\\n48,480\\n23,274\\nTotal liabilities\\n1,027,390\\n738,314\\nCommitments and contingencies\\nStockholders' equity\\nCommon stock, $0.001 par value; 160,000 authorized; 56,868 and 56,128 shares issued, 56,849 and 56,108 shares outstanding at December 31, 2021 and December 31, 2020, respectively\\n57\\n56\\nAdditional paid-in capital\\n711,912\\n660,771\\nRetained earnings\\n1,829,532\\n1,347,880\\nTreasury stock\\n(177)\\n(177)\\nAccumulated other comprehensive loss\\n(54,207)\\n(25,512)\\nTotal EPAM Systems Inc. stockholders' equity\\n2,487,117\\n1,983,018\\nNoncontrolling interest in consolidated subsidiaries\\n8,720\\n—\\nTotal equity\\n2,495,837\\n1,983,018\\nTotal liabilities and\\xa0 stockholders' equity\\n$ \\xa0 3,523,227\\n$ \\xa0 2,721,332\\nEPAM SYSTEMS, INC. AND SUBSIDIARIESReconciliations of Non-GAAP Financial Measures to Comparable GAAP Financial Measures(Unaudited)(In thousands, except percent and per share amounts)\\nReconciliation of revenue growth as reported on a GAAP basis to revenue growth on a constant currency basis is presented in the table below:\\nThree Months EndedDecember 31, 2021\\nYear EndedDecember 31, 2021\\nRevenue growth as reported\\n53.1 %\\n41.3 %\\nForeign exchange rates impact\\n1.0 %\\n(1.4) %\\nRevenue growth on a constant currency basis (1)\\n54.1 %\\n39.9 %\\n(1)\\nConstant currency revenue results are calculated by translating current period revenues in local currency into U.S. dollars at the weighted average exchange rates of the comparable prior period.\\n Three Months Ended\\nDecember 31,\\nYear Ended\\nDecember 31,\\n2021\\n2020\\n2021\\n2020\\nStock-based compensation expenses\\n$ \\xa0 \\xa0 17,028\\n$ \\xa0 \\xa0 \\xa0 8,989\\n$ \\xa0 \\xa0 51,580\\n$ \\xa0 \\xa0 32,785\\nTotal adjustments to GAAP cost of revenues(2)\\n17,028\\n8,989\\n51,580\\n32,785\\nStock-based compensation expenses\\n16,989\\n11,455\\n60,075\\n42,453\\nOther acquisition-related expenses\\n812\\n1,009\\n6,397\\n1,868\\nOne-time charges/(benefits)\\n73\\n(718)\\n179\\n3,922\\nTotal adjustments to GAAP selling, general and administrative expenses(3)\\n17,874\\n11,746\\n66,651\\n48,243\\nAmortization of purchased intangible assets\\n5,861\\n3,125\\n17,646\\n12,340\\nTotal adjustments to GAAP income from operations(4)\\n40,763\\n23,860\\n135,877\\n93,368\\nChange in fair value of contingent consideration included in Interest and other (loss)/ income, net\\n7,420\\n3,308\\n8,782\\n1,827\\nImpairment of investment\\n—\\n—\\n—\\n313\\nForeign exchange loss\\n1,362\\n7,920\\n7,197\\n4,667\\nProvision for income taxes:\\nTax effect on non-GAAP adjustments\\n(9,307)\\n(6,868)\\n(27,619)\\n(20,049)\\nExcess tax benefits related to stock-based compensation\\n(18,799)\\n(7,655)\\n(71,628)\\n(36,646)\\nTotal adjustments to GAAP net income(5)\\n$ \\xa0 \\xa0 21,439\\n$ \\xa0 \\xa0 20,565\\n$ \\xa0 \\xa0 52,609\\n$ \\xa0 \\xa0 43,480\\nEPAM SYSTEMS, INC. AND SUBSIDIARIESReconciliations of Guidance Non-GAAP Financial Measures to Comparable GAAP Financial Measures(Unaudited)\\n EPAM SYSTEMS, INC. AND SUBSIDIARIESCONSOLIDATED STATEMENTS OF INCOME(Unaudited)(In\\xa0thousands, except per share data)\\nThree Months EndedDecember 31,\\nYear EndedDecember 31,\\n2021\\n2020\\n2021\\n2020\\nRevenues\\n$ 1,107,464\\n$ \\xa0 \\xa0 723,493\\n$ 3,758,144\\n$ 2,659,478\\nOperating expenses:\\nCost of revenues (exclusive of depreciation and amortization)\\n727,267\\n465,792\\n2,483,697\\n1,732,522\\nSelling, general and administrative expenses\\n190,939\\n128,929\\n648,736\\n484,758\\nDepreciation and amortization expense\\n23,591\\n16,779\\n83,395\\n62,874\\nIncome from operations\\n165,667\\n111,993\\n542,316\\n379,324\\nInterest and other (loss)/income, net\\n(4,356)\\n(2,053)\\n(1,727)\\n3,822\\nForeign exchange loss\\n(1,362)\\n(7,920)\\n(7,197)\\n(4,667)\\nIncome before provision for income taxes\\n159,949\\n102,020\\n533,392\\n378,479\\nProvision for income taxes\\n17,670\\n16,481\\n51,740\\n51,319\\nNet income\\n$ \\xa0 \\xa0 142,279\\n$ \\xa0 \\xa0 \\xa0 85,539\\n$ \\xa0 \\xa0 481,652\\n$ \\xa0 \\xa0 327,160\\nNet income per share:\\nBasic\\n$ \\xa0 \\xa0 \\xa0 \\xa0 \\xa0 2.51\\n$ \\xa0 \\xa0 \\xa0 \\xa0 \\xa0 1.53\\n$ \\xa0 \\xa0 \\xa0 \\xa0 \\xa0 8.52\\n$ \\xa0 \\xa0 \\xa0 \\xa0 \\xa0 5.87\\nDiluted\\n$ \\xa0 \\xa0 \\xa0 \\xa0 \\xa0 2.40\\n$ \\xa0 \\xa0 \\xa0 \\xa0 \\xa0 1.46\\n$ \\xa0 \\xa0 \\xa0 \\xa0 \\xa0 8.15\\n$ \\xa0 \\xa0 \\xa0 \\xa0 \\xa0 5.60\\nShares used in calculation of net income per share:\\nBasic\\n56,754\\n56,031\\n56,511\\n55,727\\nDiluted\\n59,254\\n58,774\\n59,064\\n58,446\\nEPAM SYSTEMS, INC. AND SUBSIDIARIESCONSOLIDATED BALANCE SHEETS(Unaudited)(In thousands, except par value)\\n Reconciliation of expected GAAP to non-GAAP income from operations as a percentage of revenues is presented in the table below:\\nFirst Quarter 2022\\nFull Year 2022\\nGAAP income from operations as a percentage of revenues\\n14.5% to 15.5\\xa0%\\n13.5% to 14.5\\xa0%\\nStock-based compensation expenses\\n1.6 %\\n2.4 %\\nIncluded in cost of revenues (exclusive of depreciation and amortization)\\n0.7 %\\n1.1 %\\nIncluded in selling, general and administrative expenses\\n0.9 %\\n1.3 %\\nAmortization of purchased intangible assets\\n0.4 %\\n0.6 %\\nNon-GAAP income from operations as a percentage of revenues\\n16.5% to 17.5%\\n16.5% to 17.5%\\nReconciliation of expected GAAP to non-GAAP effective tax rate is presented in the table below:\\nFirst Quarter 2022\\nFull Year 2022\\nGAAP effective tax rate (approximately)\\n8 %\\n15 %\\nTax effect on non-GAAP adjustments\\n1.8 %\\n2.0 %\\nExcess tax benefits related to stock-based compensation\\n12.2 %\\n5.0 %\\nNon-GAAP effective tax rate (approximately)\\n22 %\\n22 %\\nReconciliation of expected GAAP to non-GAAP diluted earnings per share is presented in the table below:\\nFirst Quarter 2022\\nFull Year 2022\\nGAAP diluted earnings per share\\n$2.65 to $2.73\\n$10.43 to $10.76\\nStock-based compensation expenses\\n0.32\\n1.94\\nIncluded in cost of revenues (exclusive of depreciation and amortization)\\n0.15\\n0.90\\nIncluded in selling, general and administrative expenses\\n Three Months Ended December 31, 2021\\nYear Ended December 31, 2021\\nGAAP\\nAdjustments\\nNon-GAAP\\nGAAP\\nAdjustments\\nNon-GAAP\\nCost of revenues (exclusive of depreciation and amortization)(2)\\n$ 727,267\\n$ (17,028)\\n$ 710,239\\n$ \\xa02,483,697\\n$ (51,580)\\n$ \\xa02,432,117\\nSelling, general and administrative expenses(3)\\n$ 190,939\\n$ (17,874)\\n$ 173,065\\n$ \\xa0648,736\\n$ (66,651)\\n$ \\xa0582,085\\nIncome from operations(4)\\n$ 165,667\\n$ \\xa040,763\\n$ 206,430\\n$ \\xa0542,316\\n$ \\xa0135,877\\n$ \\xa0678,193\\nOperating margin\\n15.0 %\\n3.6 %\\n18.6 %\\n14.4 %\\n3.6 %\\n18.0 %\\nNet income(5)\\n$ 142,279\\n$ \\xa021,439\\n$ 163,718\\n$ \\xa0481,652\\n$ \\xa052,609\\n$ \\xa0534,261\\nDiluted earnings per share\\n$ \\xa0 \\xa0 \\xa0 \\xa02.40\\n$ \\xa0 \\xa0 \\xa0 2.76\\n$ \\xa0 \\xa0 \\xa0 \\xa08.15\\n$ \\xa0 \\xa0 \\xa0 \\xa09.05\\nThree Months Ended December 31, 2020\\n\"],\n",
       " [\"(In thousands, except par value)\\nAs of\\nSeptember 30,\\n2023\\nAs of\\nDecember 31,\\n2022\\nAssets\\nCurrent assets\\nCash and cash equivalents\\n$\\xa0\\xa0\\xa0 1,872,977\\n$\\xa0\\xa0\\xa0 1,681,344\\nTrade receivables and contract assets, net of allowance of $10,884\\nand $15,310, respectively\\n913,029\\n932,626\\nShort-term investments\\n60,431\\n60,336\\nPrepaid and other current assets\\n78,851\\n85,319\\nTotal current assets\\n2,925,288\\n2,759,625\\nProperty and equipment, net\\n239,654\\n273,348\\nOperating lease right-of-use assets, net\\n136,311\\n148,780\\nIntangible assets, net\\n69,730\\n77,652\\nGoodwill\\n548,177\\n529,072\\nDeferred tax assets\\n187,524\\n172,797\\nOther noncurrent assets\\n55,588\\n47,877\\nTotal assets\\n$\\xa0\\xa0\\xa0 4,162,272\\n$\\xa0\\xa0\\xa0 4,009,151\\nLiabilities\\nCurrent liabilities\\nAccounts payable\\n$\\xa0\\xa0\\xa0\\xa0\\xa0\\xa0\\xa0\\xa0 25,415\\n$\\xa0\\xa0\\xa0\\xa0\\xa0\\xa0\\xa0\\xa0 30,852\\nAccrued compensation and benefits expenses\\n392,417\\n475,871\\nAccrued expenses and other current liabilities\\n127,898\\n154,339\\nIncome taxes payable, current\\n29,554\\n46,069\\nOperating lease liabilities, current\\n38,294\\n40,352\\nTotal current liabilities\\n613,578\\n747,483\\nLong-term debt\\n27,500\\n27,693\\nOperating lease liabilities, noncurrent\\n108,332\\n122,317\\nOther noncurrent liabilities\\n112,844\\n108,648\\nTotal liabilities\\n862,254\\n1,006,141\\nCommitments and contingencies\\nEquity\\nStockholders' equity\\nCommon stock, $0.001 par value; 160,000 shares authorized; 57,706 and 57,668\\nshares issued, 57,693 and 57,655 shares outstanding at September 30, 2023 and\\nDecember 31, 2022, respectively\\n58\\n58\\nAdditional paid-in capital\\n951,086\\n847,965\\nRetained earnings\\n2,440,043\\n2,248,948\\nTreasury stock\\n(118)\\n(118)\\nAccumulated other comprehensive loss\\n(91,630)\\n(95,321)\\nTotal EPAM Systems, Inc. stockholders' equity\\n3,299,439\\n3,001,532\\nNoncontrolling interest in consolidated subsidiaries\\n579\\n1,478\\nTotal equity\\n3,300,018\\n3,003,010\\nTotal liabilities and equity\\n$\\xa0\\xa0\\xa0 4,162,272\\n$\\xa0\\xa0\\xa0 4,009,151\\nEPAM SYSTEMS, INC. AND SUBSIDIARIES\\nReconciliations of Non-GAAP Financial Measures to Comparable GAAP Financial Measures\\n(Unaudited)\\n(In thousands, except percent and per share amounts)\\nReconciliation of revenue decline as reported on a GAAP basis to revenue decline on an organic constant currency basis excluding the impact of the exit from Russia is presented in the table below:\\nThree Months Ended\\nSeptember 30, 2023\\nNine Months Ended\\nSeptember 30, 2023\\n Reconciliation of various income statement amounts from GAAP to non-GAAP for the three and nine months ended September 30, 2023 and 2022:\\nThree Months Ended\\nSeptember 30, 2023\\nNine Months Ended\\nSeptember 30, 2023\\nGAAP\\nAdjustments\\nNon-GAAP\\nGAAP\\nAdjustments\\nNon-GAAP\\nCost of revenues (exclusive of depreciation and amortization)(2)\\n$ 794,265\\n$\\xa0 (21,146)\\n$ 773,119\\n$\\xa0 2,458,881\\n$\\xa0 (67,281)\\n$\\xa0 2,391,600\\nSelling, general and administrative expenses(3)\\n$ 194,829\\n$\\xa0 (28,828)\\n$ 166,001\\n$ 601,093\\n$\\xa0 (76,021)\\n$ 525,072\\nIncome from operations(4)\\n$ 114,028\\n$\\xa0\\xa0\\xa0 81,584\\n$ 195,612\\n$ 378,745\\n$ 185,932\\n$ 564,677\\nOperating margin\\n9.9\\xa0%\\n7.1\\xa0%\\n17.0\\xa0%\\n10.7\\xa0%\\n5.3\\xa0%\\n16.0\\xa0%\\nNet income(5)\\n$\\xa0\\xa0\\xa0 97,204\\n$\\xa0\\xa0\\xa0 63,876\\n$ 161,080\\n$ 319,529\\n$ 144,344\\n$ 463,873\\nDiluted earnings per share\\n$\\xa0\\xa0\\xa0\\xa0\\xa0\\xa0\\xa0 1.65\\n$\\xa0\\xa0\\xa0\\xa0\\xa0\\xa0 2.73\\n$\\xa0\\xa0\\xa0\\xa0\\xa0\\xa0\\xa0 5.40\\n$\\xa0\\xa0\\xa0\\xa0\\xa0\\xa0\\xa0 7.84\\nThree Months Ended\\nSeptember 30, 2022\\nNine Months Ended\\nSeptember 30, 2022\\nGAAP\\nAdjustments\\nNon-GAAP\\nGAAP\\nAdjustments\\nNon-GAAP\\nCost of revenues (exclusive of depreciation and amortization)(2)\\n$ 826,796\\n$\\xa0 (21,358)\\n$ 805,438\\n$\\xa0 2,453,955\\n$\\xa0 (48,576)\\n$\\xa0 2,405,379\\nSelling, general and administrative expenses(3)\\n$ 198,021\\n$\\xa0 (25,221)\\n$ 172,800\\n$ 667,825\\n$\\xa0 (130,914)\\n$ 536,911\\nIncome from operations(4)\\n$ 180,227\\n$\\xa0\\xa0\\xa0 52,163\\n$ 232,390\\n$ 402,489\\n$ 196,074\\n$ 598,563\\nOperating margin\\n14.7\\xa0%\\n4.2\\xa0%\\n18.9\\xa0%\\n11.2\\xa0%\\n5.5\\xa0%\\n16.7\\xa0%\\nNet income(5)\\n$ 156,054\\n$\\xa0\\xa0\\xa0 27,685\\n$ 183,739\\n$ 264,377\\n$ 206,643\\n$ 471,020\\nDiluted earnings per share\\n$\\xa0\\xa0\\xa0\\xa0\\xa0\\xa0\\xa0 2.63\\n$\\xa0\\xa0\\xa0\\xa0\\xa0\\xa0 3.10\\n$\\xa0\\xa0\\xa0\\xa0\\xa0\\xa0\\xa0 4.47\\n$\\xa0\\xa0\\xa0\\xa0\\xa0\\xa0\\xa0 7.97\\nItems (2) through (5) above are detailed in the table below with the specific cross-reference noted in the appropriate item.\\n Total adjustments to GAAP cost of revenues(2)\\n21,146\\n21,358\\n67,281\\n48,576\\nStock-based compensation expenses\\n19,705\\n15,813\\n59,967\\n36,510\\nOne-time charges (d)\\n7,178\\n2,360\\n7,420\\n6,236\\nHumanitarian support in Ukraine (b)\\n643\\n1,631\\n5,309\\n13,219\\nOther acquisition-related expenses\\n867\\n264\\n2,448\\n934\\nGeographic repositioning (e)\\n435\\n4,425\\n877\\n37,497\\nRussia long-lived asset impairment charges (f)\\n—\\n—\\n—\\n19,570\\nRussia business restructuring (g)\\n—\\n728\\n—\\n16,948\\nTotal adjustments to GAAP selling, general and administrative expenses(3)\\n28,828\\n25,221\\n76,021\\n130,914\\nLoss on sale of business\\xa0 (h)\\n25,922\\n—\\n25,922\\n—\\nAmortization of acquired intangible assets\\n5,688\\n5,584\\n16,708\\n16,584\\nTotal adjustments to GAAP income from operations(4)\\n81,584\\n52,163\\n185,932\\n196,074\\nForeign exchange (gain)/loss\\n(3,893)\\n(6,691)\\n6,725\\n102,035\\nChange in fair value of contingent consideration included in Interest and other income, net\\n300\\n2,414\\n1,818\\n8,520\\nImpairment of financial assets\\n—\\n—\\n—\\n1,300\\nProvision for income taxes:\\nTax effect on non-GAAP adjustments\\n(12,395)\\n(8,044)\\n(34,060)\\n(61,443)\\n 1.9)\\xa0%\\n(2.0)\\xa0%\\nNon-GAAP effective tax rate (approximately)\\n23\\xa0%\\n23\\xa0%\\nReconciliation of expected GAAP to non-GAAP diluted earnings per share is presented in the table below:\\nFourth Quarter 2023\\nFull Year 2023\\nGAAP diluted earnings per share\\n$1.67 to $1.75\\n$7.07 to $7.15\\nStock-based compensation expenses\\n0.62\\n2.47\\nIncluded in cost of revenues (exclusive of depreciation and amortization)\\n0.28\\n1.12\\nIncluded in selling, general and administrative expenses\\n0.34\\n1.35\\nUnbilled business continuity resources (a)\\n—\\n0.16\\nHumanitarian support in Ukraine (b)\\n0.06\\n0.29\\nOne-time charges (d)\\n0.25\\n0.40\\nLoss on sale of business (h)\\n—\\n0.43\\nOther acquisition-related expenses\\n—\\n0.04\\nAmortization of acquired intangible assets\\n0.10\\n0.38\\nChange in fair value of contingent consideration\\n—\\n0.03\\nForeign exchange loss\\n—\\n0.12\\nProvision for income taxes:\\nTax effect on non-GAAP adjustments\\n(0.21)\\n(0.78)\\nExcess tax benefits related to stock-based compensation\\n(0.02)\\n(0.28)\\nNet discrete benefit from tax planning (i)\\n—\\n(0.02)\\n Reconciliation of expected GAAP to non-GAAP income from operations as a percentage of revenues is presented in the table below:\\nFourth Quarter 2023\\nFull Year 2023\\nGAAP income from operations as a percentage of revenues\\n10% to 11%\\n10% to 11%\\nStock-based compensation expenses\\n3.2\\xa0%\\n3.1\\xa0%\\nIncluded in cost of revenues (exclusive of depreciation and amortization)\\n1.4\\xa0%\\n1.4\\xa0%\\nIncluded in selling, general and administrative expenses\\n1.8\\xa0%\\n1.7\\xa0%\\nUnbilled business continuity resources (a)\\n—\\xa0%\\n0.2\\xa0%\\nHumanitarian support in Ukraine (b)\\n0.2\\xa0%\\n0.3\\xa0%\\nOne-time charges (d)\\n1.2\\xa0%\\n0.4\\xa0%\\nLoss on sale of business (h)\\n—\\xa0%\\n0.5\\xa0%\\nAmortization of acquired intangible assets\\n0.4\\xa0%\\n0.5\\xa0%\\nNon-GAAP income from operations as a percentage of revenues\\n15% to 16%\\n15% to 16%\\nReconciliation of expected GAAP to non-GAAP effective tax rate is presented in the table below:\\nFourth Quarter 2023\\nFull Year 2023\\nGAAP effective tax rate (approximately)\\n24\\xa0%\\n22\\xa0%\\nExcess tax benefits related to stock-based compensation\\n0.9\\xa0%\\n3.0\\xa0%\\nTax effect on non-GAAP adjustments\\n(\",\n",
       "  '(NYSE: EPAM), a leading digital transformation services and product engineering company, today announced the successful completion of its acquisition of First Derivative, a Northern Ireland-headquartered managed services and consulting business for the capital markets industry with more than 1,800 employees worldwide and major delivery capability in the U.K., Ireland, North America and APAC. “This partnership brings together EPAM’s digital, AI, cloud and engineering capabilities with First Derivative’s expertise in financial services. EPAM will leverage First Derivative’s strong industry experience and brand to deliver a comprehensive set of AI-enabled capabilities to clients in banking, capital markets and other financially regulated businesses across North America, Europe and APAC.',\n",
       "  'EPAM will leverage First Derivative’s strong industry experience and brand to deliver a comprehensive set of AI-enabled end-to-end capabilities to clients in banking, capital markets and other financially regulated businesses across North America, Europe and APAC. “The combination of EPAM’s digital technology and engineering heritage with First Derivative’s business services and packaged implementation software offerings, bolstered by the transformative potential of Generative AI, will establish valuable end-to-end capabilities for our clients. (NYSE: EPAM) has used its software engineering expertise to become a leading global provider of digital engineering, cloud and AI-enabled transformation services, and a leading business and experience consulting partner for global enterprises and ambitious startups.'],\n",
       " ['(NYSE: EPAM), a leading global provider of digital platform engineering and software development services, today announced that, for the second consecutive year, its TelescopeAI platform has been named a winner in the 2020 BIG Innovation Awards presented by the Business Intelligence Group. In 2019, EPAM expanded its TelescopeAI platform to offer solutions for several vertical and business process use cases – from specialized safety and compliance features for oil and gas to workforce management for healthcare and clinical trials support for life sciences. By combining the TelescopeAI platform with EPAM’s integrated business, experience and technology consulting services, our customers have actionable insights to make informed decisions to increase productivity and delivery as well as the organizational resources needed to drive topline growth,” said Jitin Agarwal, VP, Enterprise Products, EPAM.',\n",
       "  \"(NYSE: EPAM), a leading digital transformation services and product engineering company, today announced a strategic, global partnership with Google Cloud to develop and deploy Artificial Intelligence (AI)-first Google Cloud solutions to help enterprises overcome operational challenges and drive transformational growth. This partnership will leverage Google Cloud's advanced AI and ML capabilities, and EPAM’s platform and data engineering DNA and nearly 30 years of experience engineering, consulting, and software development experience to deliver innovative cloud-enabled AI, data modernization, migration, data and analytics solutions to the Forbes Global 2000. While continuing to focus on the long-standing tenants of this partnership, EPAM and Google Cloud will expand their collaboration to build and deliver AI-driven solutions helping enterprises in key verticals including financial services, consumer, telecom, media, entertainment, healthcare, life sciences, energy and high-tech to modernize and transform their businesses.\",\n",
       "  'EPAM takes home the gold for Best Use of AI for Learning, Best Competencies and Skill Development and Best Learning Program Supporting a Change Transformation Business Strategy (NYSE: EPAM), a leading digital transformation services and product engineering company, today announced it won five coveted Brandon Hall Group™ Human Capital Management Excellence Awards®, including three gold awards recognizing its use of AI for learning and development. (NYSE: EPAM) has used its software engineering expertise to become a leading global provider of digital engineering, cloud and AI-enabled transformation services, and a leading business and experience consulting partner for global enterprises and ambitious startups.'],\n",
       " ['(NYSE: EPAM), a leading digital transformation services and product engineering company, today announced that EPAM’s developers have outperformed the global developer quality and productivity benchmarks set by BlueOptima, an independent organization specializing in evaluating and measuring software development practices against industry standards and global leaders. By leveraging a dataset of more than 700,000 developers across 30 countries and using metrics like Coding Effort and source code maintainability, BlueOptima’s report offers enterprise outsourcing customers key insights into global software development productivity and quality, helping them benchmark developer efficiency and optimize their outsourced projects. (NYSE:\\xa0EPAM) has used its software engineering expertise to become a leading global provider of digital engineering, cloud and AI-enabled transformation services, and a leading business and experience consulting partner for global enterprises and ambitious startups.',\n",
       "  \"US-based software engineering services provider EPAM Systems has announced the expansion of its IT operations in India by opening two new offices in Bengaluru and Chennai. EPAM's new offices feature low-carbon infrastructure and green charging points.\",\n",
       "  'Our Brands\\nEPAM CONTINUUM\\nTEST IO\\nOur Brands\\nEPAM CONTINUUM\\nTEST IO\\nFrequent Searches\\nEPAM Named a Leader in 2023 Gartner® Magic Quadrant™ for Custom Software Development Services, Worldwide\\nPress Release\\nEPAM Named a Leader in 2023 Gartner® Magic Quadrant™ for Custom Software Development Services, Worldwide\\nEPAM is a Leader according to the 2023 Gartner Magic Quadrant ™ for Custom Software Development Services, Worldwide\\nNEWTOWN, PA, USA, December 7, 2023 – EPAM Systems, Inc. (NYSE: EPAM), a leading digital transformation services and product engineering company, today announced it has been positioned as a Leader in custom software development services by Gartner. In the News\\nFinancial Services, Strategy, Engineering, CX+\\nThe Journey from Open Banking to Open Finance\\nIn the News\\nConsumer, Engineering, MACH\\nComposable Commerce: Navigating Overlooked Transformation Challenges\\nOUR BRANDS\\nSOLUTIONSHUB\\nExplore our enterprise software products, open source solutions and accelerators on EPAM SolutionsHub.\\npolicies\\nSOCIAL\\n©\\xa02023 EPAM Systems, Inc. Those future events and trends may relate to, among other things, developments relating to the war in Ukraine and escalation of the war in the surrounding region, political and civil unrest or military action in the geographies where we conduct business and operate, difficult conditions in global capital markets, foreign exchange markets and the broader economy, and the effect that these events may have on our revenues, operations, access to capital, and profitability. Other factors that could cause actual results to differ materially from those expressed or implied include general economic conditions, the risk factors discussed in the Company’s most recent Annual Report on Form 10-K and the factors discussed in the Company’s Quarterly Reports on Form 10-Q, particularly under the headings \"Management’s Discussion and Analysis of Financial Condition and Results of Operations\" and \"Risk Factors\" and other filings with the Securities and Exchange Commission. Head of Investor Relations\\nFEATURED STORIES\\nBrochure\\nSoftware & Hi-Tech, CX+, Quality Engineering, Cloud, IoT, MACH, Engineering, Data and Analytics\\nNext-Gen Quality Solutions for Next-Gen Developers\\nIn the News\\nFinancial Services, Engineering\\nOptimizing for Growth with EPAM\\n'],\n",
       " ['About EPAM Systems. Since 1993, EPAM Systems, Inc. (NYSE: EPAM) has used its software engineering expertise to become a leading global provider of digital engineering, cloud and AI-enabled transformation services, and a leading business and experience consulting partner for global enterprises and ambitious startups.',\n",
       "  'EPAM: Channel Profile & Services | EPAM EPAM AI/Run™ EPAM AI/Run™ EPAM: Channel Profile & Services EPAM: Channel Profile & Services EPAM: Channel Profile & Services EPAM Systems is a global software engineering services company with three decades of consistent growth and a recent placement in our top enterprise IT channel partners. Its growing solution stack includes the latest managed IT infrastructure services for enterprise applications, API integration, cloud modernization, automation, and securing the development pipeline. This profile offers a look at EPAM services and solutions, target markets, user opinions, industry recognition, and current financial position for potential channel partners to evaluate. +1-267-759-9000 x 393336 investor_relations@epam.com Explore our enterprise software products, open source solutions and accelerators on EPAM SolutionsHub. PARTNERS',\n",
       "  'EPAM will leverage First Derivative’s strong industry experience and brand to deliver a comprehensive set of AI-enabled end-to-end capabilities to clients in banking, capital markets and other financially regulated businesses across North America, Europe and APAC. “The combination of EPAM’s digital technology and engineering heritage with First Derivative’s business services and packaged implementation software offerings, bolstered by the transformative potential of Generative AI, will establish valuable end-to-end capabilities for our clients. (NYSE: EPAM) has used its software engineering expertise to become a leading global provider of digital engineering, cloud and AI-enabled transformation services, and a leading business and experience consulting partner for global enterprises and ambitious startups.']]"
      ]
     },
     "execution_count": 45,
     "metadata": {},
     "output_type": "execute_result"
    }
   ],
   "source": [
    "contexts"
   ]
  },
  {
   "cell_type": "markdown",
   "metadata": {},
   "source": [
    "### Metrics calculation"
   ]
  },
  {
   "cell_type": "code",
   "execution_count": 46,
   "metadata": {},
   "outputs": [
    {
     "name": "stderr",
     "output_type": "stream",
     "text": [
      "Evaluating: 100%|██████████| 20/20 [00:13<00:00,  1.45it/s]\n"
     ]
    }
   ],
   "source": [
    "from ragas import evaluate\n",
    "from datasets import Dataset\n",
    "from ragas.metrics import (\n",
    "    faithfulness,\n",
    "    answer_relevancy, # Requires emb\n",
    "    context_recall,\n",
    "    context_precision,\n",
    ")\n",
    "\n",
    "data = {\n",
    "    \"question\": questions,\n",
    "    \"answer\": answers,\n",
    "    'retrieved_contexts':contexts,\n",
    "    \"reference\": ground_truths\n",
    "}\n",
    "\n",
    "dataset = Dataset.from_dict(data)\n",
    "\n",
    "result = evaluate(\n",
    "    dataset = dataset, \n",
    "    metrics=[\n",
    "        context_precision,\n",
    "        context_recall,\n",
    "        faithfulness,\n",
    "        answer_relevancy,\n",
    "    ],\n",
    "    llm=llm,\n",
    "    embeddings=azure_embeddings,\n",
    ")\n"
   ]
  },
  {
   "cell_type": "code",
   "execution_count": 20,
   "metadata": {},
   "outputs": [
    {
     "data": {
      "text/html": [
       "<div>\n",
       "<style scoped>\n",
       "    .dataframe tbody tr th:only-of-type {\n",
       "        vertical-align: middle;\n",
       "    }\n",
       "\n",
       "    .dataframe tbody tr th {\n",
       "        vertical-align: top;\n",
       "    }\n",
       "\n",
       "    .dataframe thead th {\n",
       "        text-align: right;\n",
       "    }\n",
       "</style>\n",
       "<table border=\"1\" class=\"dataframe\">\n",
       "  <thead>\n",
       "    <tr style=\"text-align: right;\">\n",
       "      <th></th>\n",
       "      <th>user_input</th>\n",
       "      <th>retrieved_contexts</th>\n",
       "      <th>response</th>\n",
       "      <th>reference</th>\n",
       "      <th>context_precision</th>\n",
       "      <th>context_recall</th>\n",
       "      <th>faithfulness</th>\n",
       "      <th>answer_relevancy</th>\n",
       "    </tr>\n",
       "  </thead>\n",
       "  <tbody>\n",
       "    <tr>\n",
       "      <th>0</th>\n",
       "      <td>How many total employees (EPAMers) EPAM compan...</td>\n",
       "      <td>[US-based software engineering services provid...</td>\n",
       "      <td>EPAM Systems has more than 55,000 employees.</td>\n",
       "      <td>65,149 EPAmers</td>\n",
       "      <td>0.0</td>\n",
       "      <td>0.0</td>\n",
       "      <td>1.000000</td>\n",
       "      <td>0.967047</td>\n",
       "    </tr>\n",
       "    <tr>\n",
       "      <th>1</th>\n",
       "      <td>When was the company First Derivativ adquired ...</td>\n",
       "      <td>[NEWTOWN, PA, USA, and NEWRY, N. IRELAND, Octo...</td>\n",
       "      <td>First Derivative was acquired by EPAM Systems ...</td>\n",
       "      <td>October 2024</td>\n",
       "      <td>1.0</td>\n",
       "      <td>1.0</td>\n",
       "      <td>0.500000</td>\n",
       "      <td>0.968741</td>\n",
       "    </tr>\n",
       "    <tr>\n",
       "      <th>2</th>\n",
       "      <td>What is  TelescopeAI® in EPAM</td>\n",
       "      <td>[NEWTOWN, PA - January 23, 2020 - EPAM Systems...</td>\n",
       "      <td>TelescopeAI® is a platform developed by EPAM S...</td>\n",
       "      <td>an artificial intelligence-based platform for ...</td>\n",
       "      <td>1.0</td>\n",
       "      <td>0.0</td>\n",
       "      <td>0.285714</td>\n",
       "      <td>0.863862</td>\n",
       "    </tr>\n",
       "    <tr>\n",
       "      <th>3</th>\n",
       "      <td>Explain what is aboyt InfoNgen software product</td>\n",
       "      <td>[EPAM is a Leader according to the 2023 Gartne...</td>\n",
       "      <td>InfoNgen is one of the in-house brands offered...</td>\n",
       "      <td>text analytics and sentiment analysis enterpri...</td>\n",
       "      <td>0.0</td>\n",
       "      <td>0.0</td>\n",
       "      <td>0.062500</td>\n",
       "      <td>0.909550</td>\n",
       "    </tr>\n",
       "    <tr>\n",
       "      <th>4</th>\n",
       "      <td>what is EPAM</td>\n",
       "      <td>[EPAM Systems is a global software engineering...</td>\n",
       "      <td>EPAM Systems, Inc. is a global software engine...</td>\n",
       "      <td>American company that specializes in software ...</td>\n",
       "      <td>1.0</td>\n",
       "      <td>1.0</td>\n",
       "      <td>1.000000</td>\n",
       "      <td>0.843075</td>\n",
       "    </tr>\n",
       "  </tbody>\n",
       "</table>\n",
       "</div>"
      ],
      "text/plain": [
       "                                          user_input  \\\n",
       "0  How many total employees (EPAMers) EPAM compan...   \n",
       "1  When was the company First Derivativ adquired ...   \n",
       "2                      What is  TelescopeAI® in EPAM   \n",
       "3    Explain what is aboyt InfoNgen software product   \n",
       "4                                       what is EPAM   \n",
       "\n",
       "                                  retrieved_contexts  \\\n",
       "0  [US-based software engineering services provid...   \n",
       "1  [NEWTOWN, PA, USA, and NEWRY, N. IRELAND, Octo...   \n",
       "2  [NEWTOWN, PA - January 23, 2020 - EPAM Systems...   \n",
       "3  [EPAM is a Leader according to the 2023 Gartne...   \n",
       "4  [EPAM Systems is a global software engineering...   \n",
       "\n",
       "                                            response  \\\n",
       "0       EPAM Systems has more than 55,000 employees.   \n",
       "1  First Derivative was acquired by EPAM Systems ...   \n",
       "2  TelescopeAI® is a platform developed by EPAM S...   \n",
       "3  InfoNgen is one of the in-house brands offered...   \n",
       "4  EPAM Systems, Inc. is a global software engine...   \n",
       "\n",
       "                                           reference  context_precision  \\\n",
       "0                                     65,149 EPAmers                0.0   \n",
       "1                                       October 2024                1.0   \n",
       "2  an artificial intelligence-based platform for ...                1.0   \n",
       "3  text analytics and sentiment analysis enterpri...                0.0   \n",
       "4  American company that specializes in software ...                1.0   \n",
       "\n",
       "   context_recall  faithfulness  answer_relevancy  \n",
       "0             0.0      1.000000          0.967047  \n",
       "1             1.0      0.500000          0.968741  \n",
       "2             0.0      0.285714          0.863862  \n",
       "3             0.0      0.062500          0.909550  \n",
       "4             1.0      1.000000          0.843075  "
      ]
     },
     "execution_count": 20,
     "metadata": {},
     "output_type": "execute_result"
    }
   ],
   "source": [
    "df = result.to_pandas()\n",
    "df"
   ]
  },
  {
   "cell_type": "markdown",
   "metadata": {},
   "source": [
    "### Metrics summary and conclutions"
   ]
  },
  {
   "cell_type": "code",
   "execution_count": 21,
   "metadata": {},
   "outputs": [
    {
     "data": {
      "text/html": [
       "<div>\n",
       "<style scoped>\n",
       "    .dataframe tbody tr th:only-of-type {\n",
       "        vertical-align: middle;\n",
       "    }\n",
       "\n",
       "    .dataframe tbody tr th {\n",
       "        vertical-align: top;\n",
       "    }\n",
       "\n",
       "    .dataframe thead th {\n",
       "        text-align: right;\n",
       "    }\n",
       "</style>\n",
       "<table border=\"1\" class=\"dataframe\">\n",
       "  <thead>\n",
       "    <tr style=\"text-align: right;\">\n",
       "      <th></th>\n",
       "      <th>context_precision</th>\n",
       "      <th>context_recall</th>\n",
       "      <th>faithfulness</th>\n",
       "      <th>answer_relevancy</th>\n",
       "    </tr>\n",
       "  </thead>\n",
       "  <tbody>\n",
       "    <tr>\n",
       "      <th>count</th>\n",
       "      <td>5.000000</td>\n",
       "      <td>5.000000</td>\n",
       "      <td>5.000000</td>\n",
       "      <td>5.000000</td>\n",
       "    </tr>\n",
       "    <tr>\n",
       "      <th>mean</th>\n",
       "      <td>0.600000</td>\n",
       "      <td>0.400000</td>\n",
       "      <td>0.569643</td>\n",
       "      <td>0.910455</td>\n",
       "    </tr>\n",
       "    <tr>\n",
       "      <th>std</th>\n",
       "      <td>0.547723</td>\n",
       "      <td>0.547723</td>\n",
       "      <td>0.422219</td>\n",
       "      <td>0.057688</td>\n",
       "    </tr>\n",
       "    <tr>\n",
       "      <th>min</th>\n",
       "      <td>0.000000</td>\n",
       "      <td>0.000000</td>\n",
       "      <td>0.062500</td>\n",
       "      <td>0.843075</td>\n",
       "    </tr>\n",
       "    <tr>\n",
       "      <th>25%</th>\n",
       "      <td>0.000000</td>\n",
       "      <td>0.000000</td>\n",
       "      <td>0.285714</td>\n",
       "      <td>0.863862</td>\n",
       "    </tr>\n",
       "    <tr>\n",
       "      <th>50%</th>\n",
       "      <td>1.000000</td>\n",
       "      <td>0.000000</td>\n",
       "      <td>0.500000</td>\n",
       "      <td>0.909550</td>\n",
       "    </tr>\n",
       "    <tr>\n",
       "      <th>75%</th>\n",
       "      <td>1.000000</td>\n",
       "      <td>1.000000</td>\n",
       "      <td>1.000000</td>\n",
       "      <td>0.967047</td>\n",
       "    </tr>\n",
       "    <tr>\n",
       "      <th>max</th>\n",
       "      <td>1.000000</td>\n",
       "      <td>1.000000</td>\n",
       "      <td>1.000000</td>\n",
       "      <td>0.968741</td>\n",
       "    </tr>\n",
       "  </tbody>\n",
       "</table>\n",
       "</div>"
      ],
      "text/plain": [
       "       context_precision  context_recall  faithfulness  answer_relevancy\n",
       "count           5.000000        5.000000      5.000000          5.000000\n",
       "mean            0.600000        0.400000      0.569643          0.910455\n",
       "std             0.547723        0.547723      0.422219          0.057688\n",
       "min             0.000000        0.000000      0.062500          0.843075\n",
       "25%             0.000000        0.000000      0.285714          0.863862\n",
       "50%             1.000000        0.000000      0.500000          0.909550\n",
       "75%             1.000000        1.000000      1.000000          0.967047\n",
       "max             1.000000        1.000000      1.000000          0.968741"
      ]
     },
     "execution_count": 21,
     "metadata": {},
     "output_type": "execute_result"
    }
   ],
   "source": [
    "metrics = ['context_precision',\t'context_recall', 'faithfulness', 'answer_relevancy']\n",
    "df[metrics].describe()"
   ]
  },
  {
   "cell_type": "markdown",
   "metadata": {},
   "source": []
  },
  {
   "cell_type": "markdown",
   "metadata": {},
   "source": []
  },
  {
   "cell_type": "markdown",
   "metadata": {},
   "source": [
    "## 4.  TEST DATA GENERATION (AUGMENTED DATA)"
   ]
  },
  {
   "cell_type": "code",
   "execution_count": 47,
   "metadata": {},
   "outputs": [],
   "source": [
    "# https://docs.ragas.io/en/stable/getstarted/rag_testset_generation/#choose-your-llm\n",
    "from ragas.llms import LangchainLLMWrapper\n",
    "from ragas.embeddings import LangchainEmbeddingsWrapper\n",
    "#from langchain_openai import ChatOpenAI\n",
    "#from langchain_openai import OpenAIEmbeddings\n",
    "\n",
    "\n",
    "generator_llm = LangchainLLMWrapper(llm)\n",
    "generator_embeddings = LangchainEmbeddingsWrapper(azure_embeddings)"
   ]
  },
  {
   "cell_type": "code",
   "execution_count": 48,
   "metadata": {},
   "outputs": [],
   "source": [
    "from langchain_community.document_loaders import WebBaseLoader\n",
    "\n",
    "loader = WebBaseLoader(\"https://en.wikipedia.org/wiki/EPAM_Systems\")\n",
    "docs = loader.load()"
   ]
  },
  {
   "cell_type": "code",
   "execution_count": 52,
   "metadata": {},
   "outputs": [
    {
     "data": {
      "text/plain": [
       "[Document(metadata={'source': 'https://en.wikipedia.org/wiki/EPAM_Systems', 'title': 'EPAM Systems - Wikipedia', 'language': 'en'}, page_content='\\n\\n\\n\\nEPAM Systems - Wikipedia\\n\\n\\n\\n\\n\\n\\n\\n\\n\\n\\n\\n\\n\\n\\n\\n\\n\\n\\n\\n\\n\\n\\n\\n\\n\\n\\n\\n\\n\\n\\n\\n\\n\\n\\n\\n\\nJump to content\\n\\n\\n\\n\\n\\n\\n\\nMain menu\\n\\n\\n\\n\\n\\nMain menu\\nmove to sidebar\\nhide\\n\\n\\n\\n\\t\\tNavigation\\n\\t\\n\\n\\nMain pageContentsCurrent eventsRandom articleAbout WikipediaContact us\\n\\n\\n\\n\\n\\n\\t\\tContribute\\n\\t\\n\\n\\nHelpLearn to editCommunity portalRecent changesUpload file\\n\\n\\n\\n\\n\\n\\n\\n\\n\\n\\n\\n\\n\\n\\n\\n\\n\\n\\n\\nSearch\\n\\n\\n\\n\\n\\n\\n\\n\\n\\n\\n\\nSearch\\n\\n\\n\\n\\n\\n\\n\\n\\n\\n\\n\\n\\n\\n\\n\\n\\n\\n\\n\\n\\n\\n\\nAppearance\\n\\n\\n\\n\\n\\n\\n\\n\\n\\n\\n\\n\\n\\n\\n\\n\\nDonate\\n\\nCreate account\\n\\nLog in\\n\\n\\n\\n\\n\\n\\n\\n\\nPersonal tools\\n\\n\\n\\n\\n\\nDonate Create account Log in\\n\\n\\n\\n\\n\\n\\t\\tPages for logged out editors learn more\\n\\n\\n\\nContributionsTalk\\n\\n\\n\\n\\n\\n\\n\\n\\n\\n\\n\\n\\n\\n\\n\\n\\n\\n\\n\\n\\n\\n\\n\\n\\n\\n\\n\\n\\nContents\\nmove to sidebar\\nhide\\n\\n\\n\\n\\n(Top)\\n\\n\\n\\n\\n\\n1\\nHistory\\n\\n\\n\\n\\nToggle History subsection\\n\\n\\n\\n\\n\\n1.1\\nEarly years\\n\\n\\n\\n\\n\\n\\n\\n\\n1.2\\nTimeline\\n\\n\\n\\n\\n\\n\\n\\n\\n\\n\\n2\\nRussian invasion of Ukraine\\n\\n\\n\\n\\n\\n\\n\\n\\n3\\nAcquisitions\\n\\n\\n\\n\\n\\n\\n\\n\\n4\\nAwards\\n\\n\\n\\n\\n\\n\\n\\n\\n5\\nReferences\\n\\n\\n\\n\\n\\n\\n\\n\\n6\\nExternal links\\n\\n\\n\\n\\n\\n\\n\\n\\n\\n\\n\\n\\n\\n\\n\\n\\n\\n\\nToggle the table of contents\\n\\n\\n\\n\\n\\n\\n\\nEPAM Systems\\n\\n\\n\\n10 languages\\n\\n\\n\\n\\nБеларускаяБеларуская (тарашкевіца)DanskDeutschفارسی日本語Oʻzbekcha / ўзбекчаPolskiРусскийУкраїнська\\n\\nEdit links\\n\\n\\n\\n\\n\\n\\n\\n\\n\\n\\n\\nArticleTalk\\n\\n\\n\\n\\n\\nEnglish\\n\\n\\n\\n\\n\\n\\n\\n\\n\\n\\n\\n\\n\\n\\n\\n\\n\\nReadEditView history\\n\\n\\n\\n\\n\\n\\n\\nTools\\n\\n\\n\\n\\n\\nTools\\nmove to sidebar\\nhide\\n\\n\\n\\n\\t\\tActions\\n\\t\\n\\n\\nReadEditView history\\n\\n\\n\\n\\n\\n\\t\\tGeneral\\n\\t\\n\\n\\nWhat links hereRelated changesUpload fileSpecial pagesPermanent linkPage informationCite this pageGet shortened URLDownload QR code\\n\\n\\n\\n\\n\\n\\t\\tPrint/export\\n\\t\\n\\n\\nDownload as PDFPrintable version\\n\\n\\n\\n\\n\\n\\t\\tIn other projects\\n\\t\\n\\n\\nWikimedia CommonsWikidata item\\n\\n\\n\\n\\n\\n\\n\\n\\n\\n\\n\\n\\n\\n\\n\\n\\n\\n\\n\\n\\n\\nAppearance\\nmove to sidebar\\nhide\\n\\n\\n\\n\\n\\n\\n\\n\\n\\n\\nFrom Wikipedia, the free encyclopedia\\n\\n\\nAmerican technology company\\nEPAM Systems, Inc.Company typePublicTraded asNYSE:\\xa0EPAMS&P 500 componentIndustrySoftware engineeringFounded1993; 31\\xa0years ago\\xa0(1993)HeadquartersNewtown, Pennsylvania, U.S.Area servedGloballyKey peopleArkadiy Dobkin (chairman, president & CEO)Services\\nSoftware product development\\ndigital platform engineering\\napplication development\\nenterprise application platforms\\napplication testing\\napplication maintenance and support\\nASM and infrastructure services\\nRevenue US$4.69 billion (2023)Operating income US$501 million (2023)Net income US$417 million (2023)Total assets US$4.35 billion (2023)Total equity US$3.47 billion (2023)Number of employees65,149 (2024)Websiteepam.comFootnotes\\xa0/ references[1]\\nEPAM Systems, Inc. is an American company that specializes in software engineering services, digital platform engineering, and digital product design, operating out of Newtown, Pennsylvania. EPAM is a founding member of the MACH Alliance.\\n\\n\\nHistory[edit]\\nEarly years[edit]\\nIn 1993, Arkadiy Dobkin and Leo Lozner founded EPAM, a global software engineering services company, in New Jersey, USA and Minsk, Belarus.[2]\\nIn 2002, EPAM was ranked publicly for the first time as a fast-growing company by Deloitte & Touche.[3] \\nIn 2012, EPAM was listed on New York Stock Exchange under the moniker EPAM.[4][5]\\n\\nTimeline[edit]\\nIn 2004, EPAM acquired Fathom Technology, a software development services company based in Budapest, Hungary, expanding its offshore services beyond North America.[6]\\nIn 2006, EPAM secured an equity investment from Siguler Guff to fund its competitive growth plans.[7]\\nIn 2006, EPAM acquired VDI, a software development services company with delivery centers in Russia, which expanded the company’s presence in the CIS region.[8] That year, EPAM CEO Arkadiy Dobkin was named one of the Top 25 Most Influential Consultants of the Year by Consulting Magazine.[9]\\nIn late 2012, EPAM made two acquisitions, Thoughtcorp, which expanded its service offerings in Agile, business intelligence and mobile,[10] and Empathy Lab, which established a digital engagement practice focusing on  customer experience, design and eCommerce.[11]\\nEPAM made two acquisitions in 2018 to expand its service offerings: Continuum (now EPAM Continuum) [12] and TH_NK[13] to add consulting capabilities and develop its digital and service design practices. Also that year, EPAM launched InfoNgen®, a text analytics and sentiment analysis enterprise software product that uses artificial intelligence.[14]\\nThe company also productized TelescopeAI®, an artificial intelligence-based platform for IT operations and workforce management, which won a 2019 Big Innovation Award presented by the Business Intelligence Group.[15]\\nIn 2019, EPAM joined the Blockchain in Transport Alliance (BiTA).[16] That year, the company launched EPAM Continuum, its service for business, experience and technology consulting.\\nThe company also launched EPAM SolutionsHub, a catalogue of its software products, accelerators and open source platforms. As part of its SolutionsHub launch, EPAM also released the Open Source Contributor Index (OSCI), a tool that ranks the top open-source contributors by a commercial organization.[17]\\nIn August 2021, EPAM expanded its presence in Latin America through the acquisition of Colombia-based S4N,[18] a software development services firm specializing in the design and development of modern software products and enterprise platforms.[19]\\nIn July 2021, EPAM acquired CORE SE,[20] a professional service provider specializing in IT strategy and technology-driven transformations, to further expand its Western European footprint in the DACH region.\\nIn May 2021, EPAM acquired Just-BI,[21] a Netherlands-based consultancy specializing in SAP S/4HANA and enterprise data and analytics program management.\\nEPAM acquired Israel-based cybersecurity services provider White-Hat Ltd. in May 2021.[22]\\nIn April 2021, EPAM acquired PolSource,[23] a Salesforce Consulting Partner with more than 350 Salesforce specialists across the Americas and Europe.\\nIn December 2021, EPAM joined the S&P 500 American market index.[24]\\nIn May 2021, EPAM Systems ranked 1,804 on the Forbes Global 2000 list.[25]\\nIn 2022, EPAM announced several strategic acquisitions and investments, including a majority stake in U.S. software firm Contino and a minority stake in U.K. AI-driven data analytics firm Noodle.io.[26]\\n\\nRussian invasion of Ukraine[edit]\\nDuring the 2022 Russian invasion of Ukraine, tensions between the firm\\'s 14,000 Ukrainian employees and the 18,000 Belarusian and Russian staff sparked dissension when the CEO Arkadiy Dobkin refrained from publicly condemning Russia in a statement on LinkedIn and rejected calls to assist the Ukrainian military.[27] According to Forbes, Dobkin defended his statement, which didn\\'t mention Putin, Russia or his native Belarus, saying the company could not use its infrastructure for cyberattacks and had to protect EPAM employees in Russia and Belarus from political reprisals that are common in those countries. The company paid Ukrainian staff a $1,000 emergency grant and supported Ukrainian relief efforts, including the installation of the Starlink satellite systems in Ukraine.[28] Also, the company launched the EPAM Ukraine Assistance Fund to help Ukrainians and made a US$100 million humanitarian aid commitment.[29] In April 2022, EPAM decided to stop operating in Russia while continuing working in Belarus.[30][31][32]\\n\\nAcquisitions[edit]\\n\\n\\n\\n\\nCompany Acquired\\n\\nCountry\\n\\nDate\\n\\nBusiness\\n\\n\\nFathom Technology[6]\\n\\nHungary\\n\\nMarch 2004\\n\\nSoftware Engineering\\n\\n\\nVDI[8]\\n\\nUS, Russia\\n\\nSeptember 2006\\n\\nSoftware Development\\n\\n\\nB2BITS Corp[33]\\n\\nUS\\n\\nApril 2008\\n\\nCapital Markets & Financial Services\\n\\n\\nPlus Micro[34]\\n\\nKazakhstan\\n\\nJune 2008\\n\\nInformation technology and services\\n\\n\\nRodmon Systems[35]\\n\\nUS, Belarus\\n\\nMay 2009\\n\\nConsulting services and technology solutions\\n\\n\\nInstant Information[36]\\n\\n\\n\\nSeptember 2010\\n\\n\\n\\n\\nEmpathy Lab[11]\\n\\nUS\\n\\nDecember 2012\\n\\nDigital Strategy & Omnichannel Experience Design\\n\\n\\nThoughtcorp[10]\\n\\nCanada\\n\\nMay 2012\\n\\nTelecommunications, Agile, Business Intelligence & Mobile\\n\\n\\nNetsoft USA, Inc.[37]\\n\\nUS\\n\\nMarch 2014\\n\\nHealthcare Consulting\\n\\n\\nJointech[38]\\n\\nChina, Hong Kong, Singapore\\n\\nApril 2014\\n\\nInvestment Banking, Wealth & Asset Management\\n\\n\\nGGA Software Services LLC[39]\\n\\nUS\\n\\nJune 2014\\n\\nLife Sciences & Healthcare\\n\\n\\nGreat Fridays[40]\\n\\nUS, UK\\n\\nOctober 2014\\n\\nProduct & Service Design\\n\\n\\nSignus Labs\\n\\n\\n\\n2015\\n\\nGaming\\n\\n\\nAlliance Global Services[41]\\n\\nUS, India\\n\\nNovember 2015\\n\\nProduct Development Services & Test Automation\\n\\n\\nNavigationArts[42]\\n\\nUS\\n\\nJuly 2015\\n\\nDigital Strategy & Experience Design\\n\\n\\nDextrys[43]\\n\\nUS, China\\n\\nJune 2016\\n\\nSoftware engineering and application services\\n\\n\\nInfomatiX[44]\\n\\nHungary\\n\\nSeptember 2016\\n\\nBig data and analytics\\n\\n\\nTahzoo/Adnovate[45]\\n\\nNetherlands\\n\\n2017\\n\\nDigital strategy and experience design\\n\\n\\nWeka\\n\\nUK, NZ\\n\\n2017\\n\\nLife sciences and R&D\\n\\n\\nContinuum[12]\\n\\nUS, Italy, China\\n\\nMarch 2018\\n\\nDigital Strategy, Experience Design & Innovation Studios\\n\\n\\nTH_NK[13]\\n\\nUK\\n\\nNovember 2018\\n\\nDigital Consulting, Strategy & Experience Design\\n\\n\\nCompetentum[46]\\n\\nUS, Russia\\n\\nJuly 2019\\n\\nEducational Content Services & Learning Platform\\n\\n\\nShareKnowledge\\n\\nUS, Russia\\n\\nJuly 2019\\n\\nEducational Content Services & Learning Platform\\n\\n\\ntest IO[47]\\n\\nUS, Germany\\n\\nJuly 2019\\n\\nSaaS Testing service\\n\\n\\nAxsphere\\n\\nParis, France\\n\\nSeptember 2019\\n\\nDigital Consultancy\\n\\n\\nNAYA Technologies[48]\\n\\nUS, Israel\\n\\nNovember 2019\\n\\n\\nS Media Link\\n\\nRussia\\n\\n2019\\n\\nWeb development\\n\\n\\nOnsolve\\n\\nVietnam\\n\\nNovember 2019\\n\\nProduct development services\\n\\n\\nDeltix[49]\\n\\nUS, Belarus, Russia\\n\\nFebruary 2020\\n\\nSoftware and services provider for quantitative research, algorithmic and automated systematic trading\\n\\n\\nRicston Ltd.[50]\\n\\nUK, Malta, Spain\\n\\nSeptember 2020\\n\\nSoftware integration and connectivity solutions provider\\n\\n\\nPolSource[51]\\n\\nUS, Poland\\n\\nApril 2021\\n\\nSalesforce consulting\\n\\n\\nWhite-Hat Ltd.[52]\\n\\nIsrael\\n\\nMay 2021\\n\\nCybersecurity\\n\\n\\nJust-BI[53]\\n\\nNetherlands\\n\\nMay 2021\\n\\nSAP/S4HANA/Enterprise data and analytics program management\\n\\n\\nCORE SE[54]\\n\\nGermany\\n\\nJuly 2021\\n\\nConsulting, strategy and transformation services\\n\\n\\nS4N[55]\\n\\nColombia\\n\\nAugust 2021\\n\\nSoftware development\\n\\n\\nEmakina Group[56]\\n\\nBelgium Headquarters\\n\\nNovember 2021\\n\\nStrategy, Creative & Digital Experience\\n\\n\\nOptiva Media[57]\\n\\nEurope and Latin America\\n\\nDecember 2021\\n\\nProduct development and digital services (media/entertainment)\\n\\n\\nEnginiety[58]\\n\\nPoland\\n\\nJanuary 2022\\n\\nCommerce technology delivery\\n\\n\\nOdysseus Data Services[59]\\n\\nUS, DE, CZ, LT\\n\\nJune 2024\\n\\nHealth Data Analytics, RWE Software Engineering, OHDSI\\n\\n\\nNeoris[60]\\n\\nLATAM, EMEA\\n\\nSeptember 2024\\n\\nIT services, IT consulting\\n\\n\\nFirst Derivative[61]\\n\\nNorthern Ireland\\n\\nOctober 2024\\n\\nFinancial Services & Consultancy\\n\\nAwards[edit]\\nEPAM was named to Forbes’ 25 Fastest Growing Public Tech Companies list in 2013,[62] 2015, 2016,[63] 2017[64]\\nEPAM was named as one of Fortune’s 100 Fastest-Growing Companies in 2019,[65] 2020[66] and 2021.[67]\\nIn May 2021, EPAM ranked 1,804 on the Forbes Global 2000 list.[68]\\nEPAM joined the S&P 500 in December 2021.[69]\\nEPAM was named a Top 10 Travel, Hospitality & Logistics Service Provider in 2018 by HFS Research[70]\\nIn 2019 EPAM was awarded the BIG Innovation Awards for the development of the TelescopeAI[71] product became the winner of the international competition The Global SDG Awards in the category \"Quality Education\", 12 employees of the company were recognized as Sitecore Most Valuable Professionals.[72]\\nIn 2019, KMWorld Magazine named EPAM in the list of 100 significant companies in the field of knowledge management.[73]\\nReferences[edit]\\n\\n\\n^ \"2023 Annual Report (Form 10-K)\". U.S. Securities and Exchange Commission. February 22, 2024.\\n\\n^ \"Know The Success Story of EPAM Systems and its Journey\". Your Tech Story. 2019-11-06. Retrieved 2019-11-28.\\n\\n^ \"EPAM Systems, Inc. ranked number 292 among fastest growing technology companies in North America on the 2002 Deloitte & Touche Technology Fast 500\". www.epam.com. Retrieved 2019-11-28.\\n\\n^ \"EPAM Systems, Inc. successfully listed on the New York Stock Exchange\" (PDF). sigulerguff.com. Archived from the original (PDF) on 2021-09-29. Retrieved 2019-11-28.\\n\\n^ \"EPAM Systems, Inc. (EPAM) Stock Price, News, Quote & History - Yahoo Finance\". finance.yahoo.com. Retrieved 2020-12-08.\\n\\n^ a b Ferranti, Marc (2004-03-17). \"Epam merges to expand offshore services\". Network World. Retrieved 2019-11-28.\\n\\n^ Dai, Shasha (2012-02-16). \"Siguler Guff Sells Down Shares In EPAM\". The Wall Street Journal. Archived from the original on 2022-06-14.\\n\\n^ a b \"VDI to be acquired by New Jersey\". www.bizjournals.com. Retrieved 2019-11-28.\\n\\n^ \"Arkadiy Dobkin\". Software Russia. 2012-03-20. Archived from the original on 2021-11-10. Retrieved 2019-11-28.\\n\\n^ a b \"Press Release\". www.sec.gov. Retrieved 2019-11-28.\\n\\n^ a b N. DiStefano, Joseph (20 December 2012). \"PhillyDeals: EPAM Systems buys Conshohocken\\'s Empathy Lab\". inquirer.com. Retrieved 2019-11-28.\\n\\n^ a b EPAM (2018-03-15). \"EPAM Acquires Continuum, Expanding Global Innovation, Design and Physical Product Development Capabilities\". GlobeNewswire News Room (Press release). Retrieved 2019-11-28.\\n\\n^ a b \"Global software firm buys digital agency TH_NK\". BusinessCloud.co.uk. 2 November 2018. Retrieved 2019-11-28.\\n\\n^ \"EPAM Launches InfoNgen 7.0 to Improve Actionable Insights\". KMWorld. 2018-05-08. Retrieved 2019-11-28.\\n\\n^ Poptamas, Vlad (2019-02-12). \"EPAM Wins 2019 Big Innovation Award For TelescopeAI™, An AI-Enabled Platform To Help Businesses Manage The ir IT Operations\". PICANTE Today - Hot News Today. Retrieved 2019-11-28.\\n\\n^ \"EPAM Joins Blockchain in Transport Alliance, Largest Association in the World | EPAM\". www.epam.com. Retrieved 2019-11-28.\\n\\n^ Fejes, Balazs. \"Why Open Source Software is Critical to the Future of Financial Services\". www.epam.com. Retrieved 2019-11-28.\\n\\n^ \"EPAM Adds Engineering Scale with Colombia Acquisition\". Nearshore Americas. 12 August 2021.\\n\\n^ \"EPAM Systems Acquires CORE SE For Undisclosed Sum To Expand Western European Presence\". news.yahoo.com. 27 July 2021. Retrieved 2023-01-05.\\n\\n^ \"EPAM Systems Acquires CORE SE For Undisclosed Sum To Expand Western European Presence\". Yahoo. 27 July 2021.\\n\\n^ \"EPAM Snaps Up Just-BI; Street Says Buy\". Nasdaq.\\n\\n^ \"Israel Cybersecurity Co White-Hat Bought Out By EPAM For $50 Million\". Jewish Business News. 5 May 2021.\\n\\n^ \"EPAM Expands Salesforce Capabilities with Acquisition of PolSource\". EPAM.\\n\\n^ \"EPAM Systems Set to Join S&P 500\". Cision.\\n\\n^ \"EPAM Systems (EPAM)\". Forbes.\\n\\n^ \"Emerald to acquire Innospec Widnes to expand its footprint in global fragrance industry\". Focus on Surfactants. 2015 (8): 5. 2022-08-10. doi:10.1016/j.fos.2015.08.013.\\n\\n^ Gallagher, Ryan (2 March 2022). \"Ukraine Stance by U.S. Tech Firm Epam Sparks Internal Dissension\". Bloomberg. Retrieved 2022-03-27.\\n\\n^ Martin, Iain (3 March 2022). \"Ukraine War Divides Employees At American Tech Company That Straddles The Front Lines\". Forbes.com. Retrieved 2022-03-27.\\n\\n^ Сапитон, Михаил (April 8, 2022). \"EPAM полностью уходит из России и запускает фонд помощи украинцам – письмо основателя компании\". Forbes.ua (in Russian). Retrieved April 26, 2022.\\n\\n^ \"EPAM Systems Begins Process of Exiting Operations in Russia\". MarketWatch. Archived from the original on 2022-04-11. Retrieved 2022-04-11.\\n\\n^ \"Із Росії йде EPAM — найбільший розробник софту\". ФОКУС (in Ukrainian). 2022-04-08. Retrieved 2022-04-11.\\n\\n^ Joseph F. Kovar (2022-04-08). \"EPAM Systems Starts Exiting Russian Operations After Ukraine Invasion\". CRN.com. Retrieved 2022-05-27.\\n\\n^ \"EPAM Systems Acquires B2BITS Corp., a Leading Provider of Solutions and Consulting Services to the Capital Markets\". PR.com. Retrieved 2019-11-28.\\n\\n^ \"EPAM Investor Information\". Investors - EPAM. Archived from the original on 2022-01-27. Retrieved 2022-01-25.\\n\\n^ \"Rodmon Systems Details\". Apollo - Companies. Retrieved 2022-01-25.\\n\\n^ \"EPAM Strengthens Its Business Information Services Offerings by Acquiring Instant Information, a Leading Provider of Cloud Based Information Management and Discovery Services\". EPAM Systems. 2010-09-21.\\n\\n^ \"EPAM Acquires Healthcare Technology Consulting Firm, Netsoft USA\". MarketWatch. Archived from the original on 2019-11-28. Retrieved 2019-11-28.\\n\\n^ \"EPAM Acquires Jointech, Expands China-Based Delivery Capabilities\". MarketWatch. Archived from the original on 2019-11-28. Retrieved 2019-11-28.\\n\\n^ \"EPAM Acquires GGA Software\". finance.yahoo.com. 9 June 2014. Retrieved 2019-11-28.\\n\\n^ \"EPAM Acquires Great Fridays, Product and Service Design Company\". Software Russia. 2014-11-12. Retrieved 2019-11-28.\\n\\n^ EPAM (2015-11-16). \"EPAM Acquires Alliance Global Services\". GlobeNewswire News Room (Press release). Retrieved 2019-11-28.\\n\\n^ EPAM (2015-07-13). \"EPAM Expands Digital Engagement Practice With Acquisition of NavigationArts\". GlobeNewswire News Room (Press release). Retrieved 2019-11-28.\\n\\n^ EPAM (2016-06-22). \"EPAM Enhances Global Delivery Capabilities and Extends Footprint in China with Acquisition of Dextrys\". EPAM News Room. Retrieved 2022-01-24.\\n\\n^ \"EPAM- SAP HANA and S/4HANA Services\". Market Research. 2019. Retrieved 2022-01-24.\\n\\n^ \"Representative Legal Matters\" (PDF). Baker McKenzie. 2020-10-02. Retrieved 2022-01-24.\\n\\n^ \"EPAM Expands Education and Learning Offerings With Acquisition of Competentum\". www.prnewswire.com. Retrieved 2019-11-28.\\n\\n^ \"test IO Joins the EPAM Family\". test IO. 2019-07-01. Retrieved 2021-05-09.\\n\\n^ Kovar, Joseph F. (2019-11-05). \"EPAM Acquires NAYA Technologies, An Israeli and US-Based Consultancy Specializing in Complex Cloud Migration and Data Management Services\". epam.com. Retrieved 2022-01-27.\\n\\n^ \"EPAM Systems Acquires Deltix\". www.mergr.com. Retrieved 2022-01-11.\\n\\n^ \"EPAM Acquires Ricston Ltd., Expanding Global API Practice and Salesforce Capabilities\". www.epam.com. Retrieved 2020-11-11.\\n\\n^ \"EPAM Enhances Salesforce Capabilities With PolSource Buyout\". Nasdaq. 2021-04-08.\\n\\n^ \"American tech giant EPAM acquires Israeli security startup White-Hat\". US Tech Times. 2021-05-05.\\n\\n^ \"EPAM Systems Acquires Just-BI BV\". Mergr. 2021-05-11.\\n\\n^ \"EPAM Systems Acquires CORE SE For Undisclosed Sum To Expand Western European Presence\". Yahoo. 2021-07-27.\\n\\n^ \"EPAM Adds Engineering Scale with Colombia Acquisition\". Nearshore Americas. Retrieved 2022-01-11.\\n\\n^ \"EPAM Systems (EPAM) Acquires Emakina, Boosts Digital Portfolio\". Yahoo.\\n\\n^ \"EPAM Acquires Optiva, Boosts Digital Transformation Portfolio\". Nasdaq. 2021-12-15.\\n\\n^ \"EPAM Acquires Optiva, Boosts Digital Transformation Portfolio\". EPAM. 2022-01-25.\\n\\n^ \"EPAM Acquires Odysseus\". EPAM. 2024-06-13.\\n\\n^ \"EPAM Acquires Odysseus\". Retrieved 2024-10-12.\\n\\n^ \"First Derivative: Newry tech business sold to US firm\". BBC News. 2024-10-07. Retrieved 2024-10-07.\\n\\n^ \"EPAM Named to Forbes List and Wins Oracle Award\". Software Russia. 2013-06-13. Retrieved 2019-11-28.\\n\\n^ \"EPAM Ranked #8 on Forbes\\' List of 25 Fastest Growing Public Tech Companies\". www.epam.com. Retrieved 2019-11-28.\\n\\n^ \"EPAM Again Joins Forbes\\' List of 25 Fastest Growing Public Tech Companies\". www.epam.com. Retrieved 2019-11-28.\\n\\n^ \"100 Fastest-Growing Companies\". Fortune. Retrieved 2019-11-28.\\n\\n^ \"100 Fastest-Growing Companies\". Fortune. Retrieved 2020-11-11.\\n\\n^ \"100 Fastest-Growing Companies\". Fortune. Retrieved 2022-01-26.\\n\\n^ \"EPAM Systems (EPAM)\". Forbes. Retrieved 2022-01-26.\\n\\n^ \"EPAM Systems Set to Join S&P 500\". PR Newswire. Retrieved 2022-01-26.\\n\\n^ \"HFS Top 10 Travel, Hospitality, and Logistics Service Providers\". HFS Research. 2018-10-25. Retrieved 2019-11-28.\\n\\n^ \"Платформа EPAM TelescopeAI удостоена награды BIG Innovation Award 2019\". www.epam-group.ru (in Russian). Archived from the original on 2021-10-20. Retrieved 2020-12-09.\\n\\n^ \"2019\". mvp.sitecore.com. Archived from the original on 2019-05-17. Retrieved 2020-12-09.\\n\\n^ \"KMWorld 100 Companies That Matter in Knowledge Management 2019\". www.kmworld.com. Retrieved 2020-12-09.\\n\\n\\nExternal links[edit]\\nOfficial website\\nBusiness data for EPAM Systems, Inc.: BloombergGoogleReutersSEC filingsYahoo!\\nAuthority control databases ISNI\\n\\n\\n\\n\\nRetrieved from \"https://en.wikipedia.org/w/index.php?title=EPAM_Systems&oldid=1262487360\"\\nCategories: Companies listed on the New York Stock ExchangeOutsourcing companiesSoftware companies established in 1993Software companies based in PennsylvaniaCompanies based in Bucks County, PennsylvaniaAmerican companies established in 19931993 establishments in New Jersey2012 initial public offeringsSoftware companies of the United StatesHidden categories: Pages with non-numeric formatnum argumentsCS1 Russian-language sources (ru)CS1 Ukrainian-language sources (uk)Articles with short descriptionShort description is different from Wikidata\\n\\n\\n\\n\\n\\n\\n This page was last edited on 11 December 2024, at 18:00\\xa0(UTC).\\nText is available under the Creative Commons Attribution-ShareAlike 4.0 License;\\nadditional terms may apply. By using this site, you agree to the Terms of Use and Privacy Policy. Wikipedia® is a registered trademark of the Wikimedia Foundation, Inc., a non-profit organization.\\n\\n\\nPrivacy policy\\nAbout Wikipedia\\nDisclaimers\\nContact Wikipedia\\nCode of Conduct\\nDevelopers\\nStatistics\\nCookie statement\\nMobile view\\n\\n\\n\\n\\n\\n\\n\\n\\n\\n\\n\\n\\n\\n\\n')]"
      ]
     },
     "execution_count": 52,
     "metadata": {},
     "output_type": "execute_result"
    }
   ],
   "source": [
    "docs"
   ]
  },
  {
   "cell_type": "code",
   "execution_count": 53,
   "metadata": {},
   "outputs": [
    {
     "name": "stderr",
     "output_type": "stream",
     "text": [
      "Generating personas: 100%|██████████| 1/1 [00:00<00:00,  1.28it/s]                                         \n",
      "Generating Scenarios: 100%|██████████| 1/1 [00:04<00:00,  4.25s/it]\n",
      "Generating Samples: 100%|██████████| 12/12 [00:02<00:00,  4.87it/s]\n"
     ]
    }
   ],
   "source": [
    "from ragas.testset import TestsetGenerator\n",
    "\n",
    "generator = TestsetGenerator(llm=generator_llm, embedding_model=generator_embeddings)\n",
    "dataset = generator.generate_with_langchain_docs(docs, testset_size=10)"
   ]
  },
  {
   "cell_type": "code",
   "execution_count": 54,
   "metadata": {},
   "outputs": [
    {
     "data": {
      "text/html": [
       "<div>\n",
       "<style scoped>\n",
       "    .dataframe tbody tr th:only-of-type {\n",
       "        vertical-align: middle;\n",
       "    }\n",
       "\n",
       "    .dataframe tbody tr th {\n",
       "        vertical-align: top;\n",
       "    }\n",
       "\n",
       "    .dataframe thead th {\n",
       "        text-align: right;\n",
       "    }\n",
       "</style>\n",
       "<table border=\"1\" class=\"dataframe\">\n",
       "  <thead>\n",
       "    <tr style=\"text-align: right;\">\n",
       "      <th></th>\n",
       "      <th>user_input</th>\n",
       "      <th>reference_contexts</th>\n",
       "      <th>reference</th>\n",
       "      <th>synthesizer_name</th>\n",
       "    </tr>\n",
       "  </thead>\n",
       "  <tbody>\n",
       "    <tr>\n",
       "      <th>0</th>\n",
       "      <td>What is the MACH Alliance and what is EPAM's r...</td>\n",
       "      <td>[Awards 5 References 6 External links Toggle t...</td>\n",
       "      <td>EPAM Systems is a founding member of the MACH ...</td>\n",
       "      <td>single_hop_specifc_query_synthesizer</td>\n",
       "    </tr>\n",
       "    <tr>\n",
       "      <th>1</th>\n",
       "      <td>What is EPAM Systems and what services does it...</td>\n",
       "      <td>[Awards 5 References 6 External links Toggle t...</td>\n",
       "      <td>EPAM Systems, Inc. is an American company that...</td>\n",
       "      <td>single_hop_specifc_query_synthesizer</td>\n",
       "    </tr>\n",
       "    <tr>\n",
       "      <th>2</th>\n",
       "      <td>What is the location of EPAM Systems?</td>\n",
       "      <td>[Awards 5 References 6 External links Toggle t...</td>\n",
       "      <td>EPAM Systems is headquartered in Newtown, Penn...</td>\n",
       "      <td>single_hop_specifc_query_synthesizer</td>\n",
       "    </tr>\n",
       "    <tr>\n",
       "      <th>3</th>\n",
       "      <td>What is the role of digital consulting in EPAM...</td>\n",
       "      <td>[China March 2018 Digital Strategy, Experience...</td>\n",
       "      <td>EPAM offers digital consulting as part of its ...</td>\n",
       "      <td>single_hop_specifc_query_synthesizer</td>\n",
       "    </tr>\n",
       "    <tr>\n",
       "      <th>4</th>\n",
       "      <td>What is the role of EPAM Systems in Ukraine?</td>\n",
       "      <td>[China March 2018 Digital Strategy, Experience...</td>\n",
       "      <td>EPAM Systems has started exiting operations in...</td>\n",
       "      <td>single_hop_specifc_query_synthesizer</td>\n",
       "    </tr>\n",
       "    <tr>\n",
       "      <th>5</th>\n",
       "      <td>What is the significance of digital strategy i...</td>\n",
       "      <td>[China March 2018 Digital Strategy, Experience...</td>\n",
       "      <td>Digital strategy plays a crucial role in the t...</td>\n",
       "      <td>single_hop_specifc_query_synthesizer</td>\n",
       "    </tr>\n",
       "    <tr>\n",
       "      <th>6</th>\n",
       "      <td>What is the information available about Wikipe...</td>\n",
       "      <td>[EPAM Systems - Wikipedia Jump to content Main...</td>\n",
       "      <td>EPAM Systems - Wikipedia is a platform that pr...</td>\n",
       "      <td>single_hop_specifc_query_synthesizer</td>\n",
       "    </tr>\n",
       "    <tr>\n",
       "      <th>7</th>\n",
       "      <td>How can one contribute to EPAM Systems?</td>\n",
       "      <td>[EPAM Systems - Wikipedia Jump to content Main...</td>\n",
       "      <td>To contribute to EPAM Systems, one can help by...</td>\n",
       "      <td>single_hop_specifc_query_synthesizer</td>\n",
       "    </tr>\n",
       "    <tr>\n",
       "      <th>8</th>\n",
       "      <td>What is the purpose of the Main page on the EP...</td>\n",
       "      <td>[EPAM Systems - Wikipedia Jump to content Main...</td>\n",
       "      <td>The Main page on the EPAM Systems website serv...</td>\n",
       "      <td>single_hop_specifc_query_synthesizer</td>\n",
       "    </tr>\n",
       "    <tr>\n",
       "      <th>9</th>\n",
       "      <td>What is the significance of Berlin in the prov...</td>\n",
       "      <td>[the original on 2019-11-28. Retrieved 2019-11...</td>\n",
       "      <td>There is no information about Berlin in the pr...</td>\n",
       "      <td>single_hop_specifc_query_synthesizer</td>\n",
       "    </tr>\n",
       "    <tr>\n",
       "      <th>10</th>\n",
       "      <td>What is SpaceX and what services does it provide?</td>\n",
       "      <td>[the original on 2019-11-28. Retrieved 2019-11...</td>\n",
       "      <td>The provided context does not contain any info...</td>\n",
       "      <td>single_hop_specifc_query_synthesizer</td>\n",
       "    </tr>\n",
       "    <tr>\n",
       "      <th>11</th>\n",
       "      <td>What is the significance of Shanghai in the co...</td>\n",
       "      <td>[the original on 2019-11-28. Retrieved 2019-11...</td>\n",
       "      <td>There is no information about Shanghai in the ...</td>\n",
       "      <td>single_hop_specifc_query_synthesizer</td>\n",
       "    </tr>\n",
       "  </tbody>\n",
       "</table>\n",
       "</div>"
      ],
      "text/plain": [
       "                                           user_input  \\\n",
       "0   What is the MACH Alliance and what is EPAM's r...   \n",
       "1   What is EPAM Systems and what services does it...   \n",
       "2               What is the location of EPAM Systems?   \n",
       "3   What is the role of digital consulting in EPAM...   \n",
       "4        What is the role of EPAM Systems in Ukraine?   \n",
       "5   What is the significance of digital strategy i...   \n",
       "6   What is the information available about Wikipe...   \n",
       "7             How can one contribute to EPAM Systems?   \n",
       "8   What is the purpose of the Main page on the EP...   \n",
       "9   What is the significance of Berlin in the prov...   \n",
       "10  What is SpaceX and what services does it provide?   \n",
       "11  What is the significance of Shanghai in the co...   \n",
       "\n",
       "                                   reference_contexts  \\\n",
       "0   [Awards 5 References 6 External links Toggle t...   \n",
       "1   [Awards 5 References 6 External links Toggle t...   \n",
       "2   [Awards 5 References 6 External links Toggle t...   \n",
       "3   [China March 2018 Digital Strategy, Experience...   \n",
       "4   [China March 2018 Digital Strategy, Experience...   \n",
       "5   [China March 2018 Digital Strategy, Experience...   \n",
       "6   [EPAM Systems - Wikipedia Jump to content Main...   \n",
       "7   [EPAM Systems - Wikipedia Jump to content Main...   \n",
       "8   [EPAM Systems - Wikipedia Jump to content Main...   \n",
       "9   [the original on 2019-11-28. Retrieved 2019-11...   \n",
       "10  [the original on 2019-11-28. Retrieved 2019-11...   \n",
       "11  [the original on 2019-11-28. Retrieved 2019-11...   \n",
       "\n",
       "                                            reference  \\\n",
       "0   EPAM Systems is a founding member of the MACH ...   \n",
       "1   EPAM Systems, Inc. is an American company that...   \n",
       "2   EPAM Systems is headquartered in Newtown, Penn...   \n",
       "3   EPAM offers digital consulting as part of its ...   \n",
       "4   EPAM Systems has started exiting operations in...   \n",
       "5   Digital strategy plays a crucial role in the t...   \n",
       "6   EPAM Systems - Wikipedia is a platform that pr...   \n",
       "7   To contribute to EPAM Systems, one can help by...   \n",
       "8   The Main page on the EPAM Systems website serv...   \n",
       "9   There is no information about Berlin in the pr...   \n",
       "10  The provided context does not contain any info...   \n",
       "11  There is no information about Shanghai in the ...   \n",
       "\n",
       "                        synthesizer_name  \n",
       "0   single_hop_specifc_query_synthesizer  \n",
       "1   single_hop_specifc_query_synthesizer  \n",
       "2   single_hop_specifc_query_synthesizer  \n",
       "3   single_hop_specifc_query_synthesizer  \n",
       "4   single_hop_specifc_query_synthesizer  \n",
       "5   single_hop_specifc_query_synthesizer  \n",
       "6   single_hop_specifc_query_synthesizer  \n",
       "7   single_hop_specifc_query_synthesizer  \n",
       "8   single_hop_specifc_query_synthesizer  \n",
       "9   single_hop_specifc_query_synthesizer  \n",
       "10  single_hop_specifc_query_synthesizer  \n",
       "11  single_hop_specifc_query_synthesizer  "
      ]
     },
     "execution_count": 54,
     "metadata": {},
     "output_type": "execute_result"
    }
   ],
   "source": [
    "dataset.to_pandas()"
   ]
  },
  {
   "cell_type": "markdown",
   "metadata": {},
   "source": []
  },
  {
   "cell_type": "markdown",
   "metadata": {},
   "source": [
    "## 5. EVALUATION (Augmented test sample)"
   ]
  },
  {
   "cell_type": "markdown",
   "metadata": {},
   "source": []
  },
  {
   "cell_type": "code",
   "execution_count": null,
   "metadata": {},
   "outputs": [],
   "source": []
  },
  {
   "cell_type": "markdown",
   "metadata": {},
   "source": [
    "## 6. BUILD LANCHAIN AGENT WITH TOOLS"
   ]
  },
  {
   "cell_type": "code",
   "execution_count": 55,
   "metadata": {},
   "outputs": [
    {
     "data": {
      "text/plain": [
       "AIMessage(content=\"In 2006, EPAM had some significant events in its timeline. Here are a few highlights:\\n\\n1. VDI joined the EPAM family in 2006. VDI is a software engineering services company.\\n\\nUnfortunately, I couldn't find more specific details about EPAM's activities in 2006. For a more comprehensive timeline of EPAM's history, you can visit their official website [here](https://www.epam.com/about/who-we-are/history).\\n\\nPlease note that this information is based on the available search results and may not include all events from EPAM's timeline in 2006.\", additional_kwargs={'refusal': None}, response_metadata={'token_usage': {'completion_tokens': 125, 'prompt_tokens': 663, 'total_tokens': 788, 'completion_tokens_details': None, 'prompt_tokens_details': None}, 'model_name': 'gpt-35-turbo-16k', 'system_fingerprint': None, 'finish_reason': 'stop', 'logprobs': None, 'content_filter_results': {}}, id='run-59cd72bd-0f3a-4784-822c-ff084fde6332-0', usage_metadata={'input_tokens': 663, 'output_tokens': 125, 'total_tokens': 788, 'input_token_details': {}, 'output_token_details': {}})"
      ]
     },
     "execution_count": 55,
     "metadata": {},
     "output_type": "execute_result"
    }
   ],
   "source": [
    "import datetime\n",
    "today = datetime.datetime.today().strftime(\"%D\")\n",
    "from langchain_core.runnables import RunnableConfig, chain\n",
    "\n",
    "\n",
    "prompt = ChatPromptTemplate(\n",
    "    [\n",
    "        (\"system\", f\"You are a helpful assistant. The date today is {today}.\"),\n",
    "        (\"human\", \"{user_input}\"),\n",
    "        (\"placeholder\", \"{messages}\"),\n",
    "    ]\n",
    ")\n",
    "\n",
    "# specifying tool_choice will force the model to call this tool.\n",
    "llm_with_tools = llm.bind_tools([tavily_search_contex])\n",
    "\n",
    "llm_chain = prompt | llm_with_tools\n",
    "\n",
    "@chain\n",
    "def tool_chain(user_input: str, config: RunnableConfig):\n",
    "    input_ = {\"user_input\": user_input}\n",
    "    ai_msg = llm_chain.invoke(input_, config=config)\n",
    "    tool_msgs = tavily_search_contex.batch(ai_msg.tool_calls, config=config)\n",
    "    return llm_chain.invoke({**input_, \"messages\": [ai_msg, *tool_msgs]}, config=config)\n",
    "\n",
    "\n",
    "question_test = \"What happened in EPAM timeline in the year 2006?\"\n",
    "tool_chain.invoke(question_test)"
   ]
  },
  {
   "cell_type": "code",
   "execution_count": null,
   "metadata": {},
   "outputs": [],
   "source": []
  },
  {
   "cell_type": "markdown",
   "metadata": {},
   "source": [
    "## 7. CHALLENGE: Build automation test using augmented data + RAG agent"
   ]
  },
  {
   "cell_type": "markdown",
   "metadata": {},
   "source": []
  }
 ],
 "metadata": {
  "kernelspec": {
   "display_name": ".myvenv",
   "language": "python",
   "name": "python3"
  },
  "language_info": {
   "codemirror_mode": {
    "name": "ipython",
    "version": 3
   },
   "file_extension": ".py",
   "mimetype": "text/x-python",
   "name": "python",
   "nbconvert_exporter": "python",
   "pygments_lexer": "ipython3",
   "version": "3.11.0"
  }
 },
 "nbformat": 4,
 "nbformat_minor": 2
}
